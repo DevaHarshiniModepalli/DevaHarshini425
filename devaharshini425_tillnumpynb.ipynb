{
  "cells": [
    {
      "cell_type": "markdown",
      "metadata": {
        "id": "view-in-github",
        "colab_type": "text"
      },
      "source": [
        "<a href=\"https://colab.research.google.com/github/DevaHarshiniModepalli/DevaHarshini425/blob/main/devaharshini425_tillnumpynb.ipynb\" target=\"_parent\"><img src=\"https://colab.research.google.com/assets/colab-badge.svg\" alt=\"Open In Colab\"/></a>"
      ]
    },
    {
      "cell_type": "code",
      "execution_count": null,
      "metadata": {
        "colab": {
          "base_uri": "https://localhost:8080/"
        },
        "id": "Nsf3xl8ASNjk",
        "outputId": "fdaa03fc-6d90-45da-c8db-fb328e0b1b1b"
      },
      "outputs": [
        {
          "name": "stdout",
          "output_type": "stream",
          "text": [
            "{46, 21, 54, 24, 89}\n"
          ]
        }
      ],
      "source": [
        "# day 4\n",
        "s1={21,54,46,89}\n",
        "s1.add(24)\n",
        "print(s1)"
      ]
    },
    {
      "cell_type": "code",
      "execution_count": null,
      "metadata": {
        "id": "DXEXHKsCM2fY"
      },
      "outputs": [],
      "source": []
    },
    {
      "cell_type": "code",
      "execution_count": null,
      "metadata": {
        "colab": {
          "base_uri": "https://localhost:8080/"
        },
        "id": "BushT64rT7Fx",
        "outputId": "afaa352c-2670-4e04-f672-423279ec64b1"
      },
      "outputs": [
        {
          "data": {
            "text/plain": [
              "{7, 21, 24, 46, 54, 76, 89}"
            ]
          },
          "execution_count": 12,
          "metadata": {},
          "output_type": "execute_result"
        }
      ],
      "source": [
        "s2={76,7,46}\n",
        "s1.union(s2)"
      ]
    },
    {
      "cell_type": "code",
      "execution_count": null,
      "metadata": {
        "colab": {
          "base_uri": "https://localhost:8080/"
        },
        "id": "boR1wV50UXiy",
        "outputId": "1da19c01-67a7-4bce-e394-46a9de7e5e7c"
      },
      "outputs": [
        {
          "data": {
            "text/plain": [
              "{21, 24, 54, 89}"
            ]
          },
          "execution_count": 14,
          "metadata": {},
          "output_type": "execute_result"
        }
      ],
      "source": [
        "s1.difference(s2)"
      ]
    },
    {
      "cell_type": "code",
      "execution_count": null,
      "metadata": {
        "colab": {
          "base_uri": "https://localhost:8080/"
        },
        "id": "GCF0dc7oUkcN",
        "outputId": "2b3dc334-ba63-4184-e473-77c73ab8f052"
      },
      "outputs": [
        {
          "data": {
            "text/plain": [
              "{7, 76}"
            ]
          },
          "execution_count": 16,
          "metadata": {},
          "output_type": "execute_result"
        }
      ],
      "source": [
        "s2.difference(s1)"
      ]
    },
    {
      "cell_type": "code",
      "execution_count": null,
      "metadata": {
        "colab": {
          "base_uri": "https://localhost:8080/"
        },
        "id": "gxzE8lJlU0kg",
        "outputId": "1957267a-1762-4c15-f1ca-15c2a24f0db0"
      },
      "outputs": [
        {
          "data": {
            "text/plain": [
              "{7, 21, 24, 54, 76, 89}"
            ]
          },
          "execution_count": 18,
          "metadata": {},
          "output_type": "execute_result"
        }
      ],
      "source": [
        "s1.symmetric_difference(s2)"
      ]
    },
    {
      "cell_type": "code",
      "execution_count": null,
      "metadata": {
        "colab": {
          "base_uri": "https://localhost:8080/"
        },
        "id": "JOAfnd2iWYmB",
        "outputId": "c510b6ea-0287-48c6-faad-228357eb2f91"
      },
      "outputs": [
        {
          "name": "stdout",
          "output_type": "stream",
          "text": [
            "(3, 5, 7, 9)\n"
          ]
        }
      ],
      "source": [
        "a=(3,5,7)\n",
        "l=list(a)\n",
        "l.append(9)\n",
        "print(tuple(l))"
      ]
    },
    {
      "cell_type": "code",
      "execution_count": null,
      "metadata": {
        "colab": {
          "base_uri": "https://localhost:8080/"
        },
        "id": "Z-dB0AeeWjOQ",
        "outputId": "a4557382-d5ce-4652-97a6-51af86a92c00"
      },
      "outputs": [
        {
          "name": "stdout",
          "output_type": "stream",
          "text": [
            "{10, 20, 45}\n"
          ]
        }
      ],
      "source": [
        "s={10,20}\n",
        "l=list(s)\n",
        "l.insert(1,45)\n",
        "print(set(l))"
      ]
    },
    {
      "cell_type": "code",
      "execution_count": null,
      "metadata": {
        "colab": {
          "base_uri": "https://localhost:8080/"
        },
        "id": "5fIvQ1yNXBo7",
        "outputId": "866634aa-5ffb-4b6e-bc03-4916a54989be"
      },
      "outputs": [
        {
          "data": {
            "text/plain": [
              "1"
            ]
          },
          "execution_count": 23,
          "metadata": {},
          "output_type": "execute_result"
        }
      ],
      "source": [
        "t=(1,3,2)\n",
        "t.index(3)"
      ]
    },
    {
      "cell_type": "code",
      "execution_count": null,
      "metadata": {
        "colab": {
          "base_uri": "https://localhost:8080/"
        },
        "id": "83ghf25OXOiW",
        "outputId": "d4901e9d-59e7-450b-8edf-3f6a926eb956"
      },
      "outputs": [
        {
          "data": {
            "text/plain": [
              "1"
            ]
          },
          "execution_count": 29,
          "metadata": {},
          "output_type": "execute_result"
        }
      ],
      "source": [
        "t.count(2)"
      ]
    },
    {
      "cell_type": "code",
      "execution_count": null,
      "metadata": {
        "colab": {
          "base_uri": "https://localhost:8080/"
        },
        "id": "09MUXWIfXtiE",
        "outputId": "55da1e07-1e45-4993-b342-0f03a3a9943d"
      },
      "outputs": [
        {
          "name": "stdout",
          "output_type": "stream",
          "text": [
            "4\n",
            "10\n"
          ]
        }
      ],
      "source": [
        "#sum of n positive numbers\n",
        "n=int(input( ))\n",
        "def sumofpnum(n):\n",
        "  sum=0\n",
        "  for i in range(1,n+1):\n",
        "    sum=sum+i\n",
        "  print(sum)\n",
        "sumofpnum(n)\n"
      ]
    },
    {
      "cell_type": "code",
      "execution_count": null,
      "metadata": {
        "colab": {
          "base_uri": "https://localhost:8080/"
        },
        "id": "dziOV2TFHADn",
        "outputId": "65d00aed-c169-4a93-d72d-54a8a5a63c4f"
      },
      "outputs": [
        {
          "data": {
            "text/plain": [
              "6"
            ]
          },
          "execution_count": 8,
          "metadata": {},
          "output_type": "execute_result"
        }
      ],
      "source": [
        "# day 5\n",
        "d={1:6,6:647,45:6}\n",
        "d.get(1)\n",
        "# d.update({6:657})\n"
      ]
    },
    {
      "cell_type": "code",
      "execution_count": null,
      "metadata": {
        "colab": {
          "base_uri": "https://localhost:8080/"
        },
        "id": "afpKUlPbIOH3",
        "outputId": "f5fb9d95-0490-4889-8339-b5d070d4a30e"
      },
      "outputs": [
        {
          "name": "stdout",
          "output_type": "stream",
          "text": [
            "{1: 6, 45: 6}\n"
          ]
        }
      ],
      "source": [
        "d = {1: 6, 6: 647, 45: 6}\n",
        "del d[6]\n",
        "print(d)"
      ]
    },
    {
      "cell_type": "code",
      "execution_count": null,
      "metadata": {
        "colab": {
          "base_uri": "https://localhost:8080/"
        },
        "id": "qZKtKULGI2HY",
        "outputId": "a0833f0c-c89d-430b-85a5-2bb416bb12e9"
      },
      "outputs": [
        {
          "data": {
            "text/plain": [
              "{1: [658, 73], 45: 6}"
            ]
          },
          "execution_count": 21,
          "metadata": {},
          "output_type": "execute_result"
        }
      ],
      "source": [
        "d[1]=[658,73]\n",
        "d"
      ]
    },
    {
      "cell_type": "code",
      "execution_count": null,
      "metadata": {
        "colab": {
          "base_uri": "https://localhost:8080/"
        },
        "id": "GvO7QQmZJYAr",
        "outputId": "caffa43a-142b-4898-c97d-32ea7837eea2"
      },
      "outputs": [
        {
          "data": {
            "text/plain": [
              "658"
            ]
          },
          "execution_count": 24,
          "metadata": {},
          "output_type": "execute_result"
        }
      ],
      "source": [
        "d[1][0]"
      ]
    },
    {
      "cell_type": "code",
      "execution_count": null,
      "metadata": {
        "colab": {
          "base_uri": "https://localhost:8080/"
        },
        "id": "2uBFFuy0JvqU",
        "outputId": "f79aea7d-e07d-4c2b-da7b-ba8955d5a0f7"
      },
      "outputs": [
        {
          "data": {
            "text/plain": [
              "{1: [5, 34.6, 'a', 'xyz'],\n",
              " 45: 6,\n",
              " 2: (25, 467, 780),\n",
              " 3: 9864,\n",
              " 'apple': (20, 10, 70, [90, 180, 270])}"
            ]
          },
          "execution_count": 35,
          "metadata": {},
          "output_type": "execute_result"
        }
      ],
      "source": [
        "d[1]=[5,34.6,'a','xyz']\n",
        "d[2]=(25,467,780)\n",
        "d[3]=9864\n",
        "d['apple']=(20,10,70,[90,180,270])\n",
        "d"
      ]
    },
    {
      "cell_type": "code",
      "execution_count": null,
      "metadata": {
        "colab": {
          "base_uri": "https://localhost:8080/"
        },
        "id": "1sKjaFnkLJ24",
        "outputId": "a11d0c93-a42c-4825-9545-d023e1037605"
      },
      "outputs": [
        {
          "data": {
            "text/plain": [
              "int"
            ]
          },
          "execution_count": 31,
          "metadata": {},
          "output_type": "execute_result"
        }
      ],
      "source": [
        "type(d[1][1])"
      ]
    },
    {
      "cell_type": "code",
      "execution_count": null,
      "metadata": {
        "colab": {
          "base_uri": "https://localhost:8080/"
        },
        "id": "Sl8kzoF-LivJ",
        "outputId": "9cf2e620-0479-41f9-b161-fb3579c38974"
      },
      "outputs": [
        {
          "data": {
            "text/plain": [
              "90"
            ]
          },
          "execution_count": 36,
          "metadata": {},
          "output_type": "execute_result"
        }
      ],
      "source": [
        "d['apple'][3][0]"
      ]
    },
    {
      "cell_type": "code",
      "execution_count": null,
      "metadata": {
        "colab": {
          "base_uri": "https://localhost:8080/"
        },
        "id": "LyHJP15NQBoz",
        "outputId": "4c26178d-3783-47a2-8b14-2fa44b27cd6f"
      },
      "outputs": [
        {
          "data": {
            "text/plain": [
              "{102: {50: [7, 8, 9, 10], 'apple': (20, 10, 70, [90, 180, 270])}}"
            ]
          },
          "execution_count": 39,
          "metadata": {},
          "output_type": "execute_result"
        }
      ],
      "source": [
        "d={102:{50:[7,8,9,10],'apple':(20,10,70,[90,180,270])}}\n",
        "d"
      ]
    },
    {
      "cell_type": "code",
      "execution_count": null,
      "metadata": {
        "colab": {
          "base_uri": "https://localhost:8080/"
        },
        "id": "D8sr2-tdRJDL",
        "outputId": "e0649fac-508f-4a9a-b088-ec4c1b4fa0eb"
      },
      "outputs": [
        {
          "data": {
            "text/plain": [
              "90"
            ]
          },
          "execution_count": 43,
          "metadata": {},
          "output_type": "execute_result"
        }
      ],
      "source": [
        "d[102]['apple'][3][0]"
      ]
    },
    {
      "cell_type": "code",
      "execution_count": null,
      "metadata": {
        "colab": {
          "base_uri": "https://localhost:8080/"
        },
        "id": "SSmbi5-VRdp3",
        "outputId": "3401e73e-1f30-4894-9f0c-5a2a203d4b15"
      },
      "outputs": [
        {
          "name": "stdout",
          "output_type": "stream",
          "text": [
            "Enter a positive integer to find its square: 4\n",
            "The square of 4 is: 16\n"
          ]
        }
      ],
      "source": [
        "# day 5 assignment\n",
        "# function to calculate the square of a number\n",
        "def calculate_square(n):\n",
        "    return n * n\n",
        "user_input = int(input(\"Enter a positive integer to find its square: \"))\n",
        "square_result = calculate_square(user_input)\n",
        "print(\"The square of\", user_input, \"is:\", square_result)\n"
      ]
    },
    {
      "cell_type": "code",
      "execution_count": null,
      "metadata": {
        "colab": {
          "base_uri": "https://localhost:8080/"
        },
        "id": "dDwUSH0NLCFH",
        "outputId": "b3103e52-2f5c-4d15-d747-92e09761f4b2"
      },
      "outputs": [
        {
          "name": "stdout",
          "output_type": "stream",
          "text": [
            "Enter a positive integer: 5\n",
            "Numbers from 1 to 5 :\n",
            "1\n",
            "2\n",
            "3\n",
            "4\n",
            "5\n",
            "Sum of all numbers from 1 to 5 is: 15\n"
          ]
        }
      ],
      "source": [
        "\n",
        "\n",
        "n = int(input(\"Enter a positive integer: \"))\n",
        "\n",
        "# Using a for loop to print all numbers from 1 to n\n",
        "print(\"Numbers from 1 to\", n, \":\")\n",
        "for i in range(1, n+1):\n",
        "    print(i)\n",
        "\n",
        "# Using a while loop to calculate the sum of all numbers from 1 to n\n",
        "sum_numbers = 0\n",
        "i = 1\n",
        "while i <= n:\n",
        "    sum_numbers += i\n",
        "    i += 1\n",
        "\n",
        "print(\"Sum of all numbers from 1 to\", n, \"is:\", sum_numbers)\n"
      ]
    },
    {
      "cell_type": "code",
      "execution_count": null,
      "metadata": {
        "colab": {
          "base_uri": "https://localhost:8080/"
        },
        "id": "GH9mYjQ8LU_f",
        "outputId": "f91434e8-b97c-40c3-a028-7a15ed5a2438"
      },
      "outputs": [
        {
          "name": "stdout",
          "output_type": "stream",
          "text": [
            "Even\n"
          ]
        }
      ],
      "source": [
        "# day 6\n",
        "# control statements\n",
        "x=6\n",
        "if x%2==0:\n",
        "  print(\"Even\")\n",
        "else:\n",
        "  print(\"Odd\")\n"
      ]
    },
    {
      "cell_type": "code",
      "execution_count": null,
      "metadata": {
        "colab": {
          "base_uri": "https://localhost:8080/",
          "height": 35
        },
        "id": "Kt8i6DgOO9rv",
        "outputId": "6328c3d8-756b-422c-a82e-f83166cae3ae"
      },
      "outputs": [
        {
          "data": {
            "application/vnd.google.colaboratory.intrinsic+json": {
              "type": "string"
            },
            "text/plain": [
              "'india3536'"
            ]
          },
          "execution_count": 7,
          "metadata": {},
          "output_type": "execute_result"
        }
      ],
      "source": [
        "a='india3536'\n",
        "a"
      ]
    },
    {
      "cell_type": "code",
      "execution_count": null,
      "metadata": {
        "colab": {
          "base_uri": "https://localhost:8080/"
        },
        "id": "1AvmSMbuP36u",
        "outputId": "7c446d63-16ab-4725-b398-020c3fe45dac"
      },
      "outputs": [
        {
          "data": {
            "text/plain": [
              "False"
            ]
          },
          "execution_count": 10,
          "metadata": {},
          "output_type": "execute_result"
        }
      ],
      "source": [
        "a.isalpha()"
      ]
    },
    {
      "cell_type": "code",
      "execution_count": null,
      "metadata": {
        "colab": {
          "base_uri": "https://localhost:8080/"
        },
        "id": "fQW5NzSaP7dZ",
        "outputId": "99b3eacd-9e98-40a8-8b53-7d1299ec9048"
      },
      "outputs": [
        {
          "name": "stdout",
          "output_type": "stream",
          "text": [
            "Accept\n"
          ]
        }
      ],
      "source": [
        "name='india'\n",
        "if name.isalpha()==True:\n",
        "  print(\"Accept\")\n",
        "else:\n",
        "  print(\"Name can't contain numbers\")"
      ]
    },
    {
      "cell_type": "code",
      "execution_count": null,
      "metadata": {
        "colab": {
          "base_uri": "https://localhost:8080/"
        },
        "id": "cD9XJJuLQvPy",
        "outputId": "2d1f8b5c-a49d-4246-c83f-b869b09c6441"
      },
      "outputs": [
        {
          "data": {
            "text/plain": [
              "True"
            ]
          },
          "execution_count": 17,
          "metadata": {},
          "output_type": "execute_result"
        }
      ],
      "source": [
        " name.lower()\n",
        " bool(name.lower())"
      ]
    },
    {
      "cell_type": "code",
      "execution_count": null,
      "metadata": {
        "colab": {
          "base_uri": "https://localhost:8080/"
        },
        "id": "_G3Wz1c-Uuv0",
        "outputId": "47934880-ec33-4ad6-b5b5-c7318c543d9d"
      },
      "outputs": [
        {
          "data": {
            "text/plain": [
              "True"
            ]
          },
          "execution_count": 18,
          "metadata": {},
          "output_type": "execute_result"
        }
      ],
      "source": [
        "bool( \" \")"
      ]
    },
    {
      "cell_type": "code",
      "execution_count": null,
      "metadata": {
        "colab": {
          "base_uri": "https://localhost:8080/"
        },
        "id": "eH_BK2EmVDea",
        "outputId": "8bfa79c9-0abe-421b-caf8-e63b01e3e20f"
      },
      "outputs": [
        {
          "data": {
            "text/plain": [
              "True"
            ]
          },
          "execution_count": 22,
          "metadata": {},
          "output_type": "execute_result"
        }
      ],
      "source": [
        "bool(\"  797  6\")"
      ]
    },
    {
      "cell_type": "code",
      "execution_count": null,
      "metadata": {
        "colab": {
          "base_uri": "https://localhost:8080/"
        },
        "id": "MA-kC84ZVQmd",
        "outputId": "ec410433-6b75-4709-f915-71f8f9082a31"
      },
      "outputs": [
        {
          "name": "stdout",
          "output_type": "stream",
          "text": [
            "Enter a string: delhi\n",
            "No\n"
          ]
        }
      ],
      "source": [
        "# basic function for one time use\n",
        "x=input(\"Enter a string: \")\n",
        "if(x[0]==\"m\" or x[0]== \"M\"):\n",
        "  print(\"Yes\")\n",
        "else:\n",
        "  print(\"No\")"
      ]
    },
    {
      "cell_type": "code",
      "execution_count": null,
      "metadata": {
        "colab": {
          "base_uri": "https://localhost:8080/"
        },
        "id": "Ql6Z5KvdWH2c",
        "outputId": "788ea464-93f3-4eb5-d247-de280aa6d243"
      },
      "outputs": [
        {
          "name": "stdout",
          "output_type": "stream",
          "text": [
            "Enter a string: maharastra\n",
            "Yes\n"
          ]
        }
      ],
      "source": [
        "# function\n",
        "def char_check(x):\n",
        "  if(x[0]==\"m\" or x[0]== \"M\"):\n",
        "    print(\"Yes\")\n",
        "  else:\n",
        "    print(\"No\")\n",
        "char_check(input(\"Enter a string: \"))\n"
      ]
    },
    {
      "cell_type": "code",
      "execution_count": null,
      "metadata": {
        "colab": {
          "base_uri": "https://localhost:8080/"
        },
        "id": "L4C1vMP9XIvL",
        "outputId": "4d02d6c5-1b06-43f4-998f-63ffd61e6e5e"
      },
      "outputs": [
        {
          "name": "stdout",
          "output_type": "stream",
          "text": [
            "Enter a string: manipur\n",
            "Yes\n"
          ]
        }
      ],
      "source": [
        "x=input(\"Enter a string: \")\n",
        "if x.startswith(\"m\") or x.startswith(\"M\"):\n",
        "  print(\"Yes\")\n",
        "else:\n",
        "  print(\"No\")"
      ]
    },
    {
      "cell_type": "code",
      "execution_count": null,
      "metadata": {
        "colab": {
          "base_uri": "https://localhost:8080/"
        },
        "id": "1-hf1QUiYQ8t",
        "outputId": "04314732-44ef-4491-f650-006dee195cb2"
      },
      "outputs": [
        {
          "name": "stdout",
          "output_type": "stream",
          "text": [
            "Yes\n"
          ]
        }
      ],
      "source": [
        "# faster and lesser code\n",
        "x='megha'\n",
        "if x[0].lower()=='m':\n",
        "  print(\"Yes\")\n",
        "else:\n",
        "  print(\"No\")"
      ]
    },
    {
      "cell_type": "code",
      "execution_count": null,
      "metadata": {
        "colab": {
          "base_uri": "https://localhost:8080/"
        },
        "id": "LTdXs-SEYfpE",
        "outputId": "7dd3cfcb-d0ab-4849-dc14-499fe2a8248d"
      },
      "outputs": [
        {
          "name": "stdout",
          "output_type": "stream",
          "text": [
            "Yes\n"
          ]
        }
      ],
      "source": [
        "# m,s,h\n",
        "x='singapore'\n",
        "if x[0].lower()=='m' or x[0].lower()=='s' or x[0].lower()=='h':\n",
        "  print(\"Yes\")\n",
        "else:\n",
        "  print(\"No\")"
      ]
    },
    {
      "cell_type": "code",
      "execution_count": null,
      "metadata": {
        "colab": {
          "base_uri": "https://localhost:8080/"
        },
        "id": "IJgUqXQdY2uU",
        "outputId": "7ff0f7b9-bd1b-4bea-8195-7e9b5bc7e67f"
      },
      "outputs": [
        {
          "name": "stdout",
          "output_type": "stream",
          "text": [
            "No\n"
          ]
        }
      ],
      "source": [
        "x='india'\n",
        "r=['m','s','h','g','t']\n",
        "if x[0].lower() in r:\n",
        "  print(\"Yes\")\n",
        "else:\n",
        "  print(\"No\")"
      ]
    },
    {
      "cell_type": "code",
      "execution_count": null,
      "metadata": {
        "colab": {
          "base_uri": "https://localhost:8080/"
        },
        "id": "NhDzgJ14aVUR",
        "outputId": "501f55a9-3b23-4100-a77c-819078a2cf36"
      },
      "outputs": [
        {
          "name": "stdout",
          "output_type": "stream",
          "text": [
            "No\n"
          ]
        }
      ],
      "source": [
        "if x[0].lower() in ('s','h','g','t','m'):\n",
        "  print(\"Yes\")\n",
        "else:\n",
        "  print(\"No\")"
      ]
    },
    {
      "cell_type": "code",
      "execution_count": null,
      "metadata": {
        "colab": {
          "base_uri": "https://localhost:8080/"
        },
        "id": "9SVumhVVbG3d",
        "outputId": "e9b0fb52-d2d1-49a0-b7a6-43b11f0ddaf4"
      },
      "outputs": [
        {
          "name": "stdout",
          "output_type": "stream",
          "text": [
            "YES 35\n",
            "YES 30\n",
            "YES 25\n",
            "YES 20\n",
            "YES 15\n"
          ]
        }
      ],
      "source": [
        "# day7 notebook\n",
        "x=35\n",
        "while x>10:\n",
        "  print(\"YES\",x)\n",
        "  # x=x-5 decrement"
      ]
    },
    {
      "cell_type": "code",
      "execution_count": null,
      "metadata": {
        "colab": {
          "base_uri": "https://localhost:8080/"
        },
        "id": "ZuEzUCM9-xAk",
        "outputId": "13c0f630-0e7c-466c-b55e-23dd0d19f07b"
      },
      "outputs": [
        {
          "name": "stdout",
          "output_type": "stream",
          "text": [
            "[45, 25, 85, 55, 35, 65, 95]\n"
          ]
        }
      ],
      "source": [
        "# for loop used 6o access the elemnts of iterables in non iterables\n",
        "y=[40,20,80,50,30,60,90]\n",
        "for i in range(len(y)):\n",
        "  y[i]+=5\n",
        "  i+=1\n",
        "print(y)\n"
      ]
    },
    {
      "cell_type": "code",
      "execution_count": null,
      "metadata": {
        "colab": {
          "base_uri": "https://localhost:8080/"
        },
        "id": "QLkaFQegAVEx",
        "outputId": "b08475f9-c86c-4473-9ba2-ae9f4885dcc4"
      },
      "outputs": [
        {
          "name": "stdout",
          "output_type": "stream",
          "text": [
            "[6358.5, 1962.5, 22686.5, 9498.5, 3846.5, 13266.5, 28338.5]\n"
          ]
        }
      ],
      "source": [
        "for i in range(len(y)):\n",
        "  y[i]=(y[i]*y[i]*3.14)\n",
        "  i+=1\n",
        "print(y)"
      ]
    },
    {
      "cell_type": "code",
      "execution_count": null,
      "metadata": {
        "colab": {
          "base_uri": "https://localhost:8080/"
        },
        "id": "kIFbmwpcB9eZ",
        "outputId": "f1a879f6-ba6c-4502-b46d-8d42c1cc114b"
      },
      "outputs": [
        {
          "name": "stdout",
          "output_type": "stream",
          "text": [
            "[126951839.86500001, 12093415.625, 1616086666.265, 283295517.065, 46458065.465, 552640069.865, 2521641628.265]\n"
          ]
        }
      ],
      "source": [
        "lr=[]  # sum=0\n",
        "for i in y:\n",
        "  # print(i*i*3.14) #sum+=y[i]\n",
        "  lr.append(i*i*3.14)\n",
        "print(lr)\n"
      ]
    },
    {
      "cell_type": "code",
      "execution_count": null,
      "metadata": {
        "colab": {
          "base_uri": "https://localhost:8080/"
        },
        "id": "FmhtQesVDCi_",
        "outputId": "fdaaf489-9bde-4e15-a831-f2ee73b9c81b"
      },
      "outputs": [
        {
          "name": "stdout",
          "output_type": "stream",
          "text": [
            "Even:  [66, 90, 78, 24]\n",
            "Odd:  [39, 45, 93, 67, 87, 89, 93, 59, 49, 91]\n"
          ]
        }
      ],
      "source": [
        "num=[39,45,66,93,90,78,67,87,89,93,24,59,49,91]\n",
        "len(num)\n",
        "a=[];b=[]\n",
        "for i in num:\n",
        "  if i%2==0:\n",
        "    a.append(i)\n",
        "  else:\n",
        "    b.append(i)\n",
        "print(\"Even: \",a)\n",
        "print(\"Odd: \",b)"
      ]
    },
    {
      "cell_type": "code",
      "execution_count": null,
      "metadata": {
        "colab": {
          "base_uri": "https://localhost:8080/"
        },
        "id": "e9_ykDeWE9Km",
        "outputId": "8b56655a-4946-4036-ebd2-5fa6625d3977"
      },
      "outputs": [
        {
          "data": {
            "text/plain": [
              "int"
            ]
          },
          "execution_count": 20,
          "metadata": {},
          "output_type": "execute_result"
        }
      ],
      "source": [
        "a=86\n",
        "type(a)"
      ]
    },
    {
      "cell_type": "code",
      "execution_count": null,
      "metadata": {
        "id": "1enECfktGw-T"
      },
      "outputs": [],
      "source": [
        "b='hgdutd' # b initialised with a string\n",
        "b=6865.65468 # with float\n",
        "type(b)\n",
        "b=[] # with a list\n"
      ]
    },
    {
      "cell_type": "code",
      "execution_count": null,
      "metadata": {
        "colab": {
          "base_uri": "https://localhost:8080/"
        },
        "id": "slq23IDBHXBM",
        "outputId": "fad06411-5927-4ca4-a6bc-e9bd2f270808"
      },
      "outputs": [
        {
          "output_type": "execute_result",
          "data": {
            "text/plain": [
              "314.0"
            ]
          },
          "metadata": {},
          "execution_count": 5
        }
      ],
      "source": [
        "#day 8 note book\n",
        "def calcArea(r):\n",
        "  area=3.14*r*r\n",
        "  return area # if used \"print(x)\",type becomes \"nonetype\"\n",
        "calcArea(10)"
      ]
    },
    {
      "cell_type": "code",
      "source": [
        "def d_to_inr(x):\n",
        "  return(x*85) # if used \"print\" func, you can't take the sum or avg when getting collective analysis\n",
        "d_to_inr(15)"
      ],
      "metadata": {
        "colab": {
          "base_uri": "https://localhost:8080/"
        },
        "id": "1hBMnHRuI7Ea",
        "outputId": "9ddba23d-6aed-4c82-8f14-2c66c3a5cbc5"
      },
      "execution_count": null,
      "outputs": [
        {
          "output_type": "execute_result",
          "data": {
            "text/plain": [
              "1275"
            ]
          },
          "metadata": {},
          "execution_count": 9
        }
      ]
    },
    {
      "cell_type": "code",
      "source": [
        "def d_to_inr(x):\n",
        "  print(x*85) # throws error as print returns the type as none type. since no operations performed on none type of data\n",
        "a=d_to_inr(45)\n",
        "b=d_to_inr(67)\n",
        "a+b"
      ],
      "metadata": {
        "colab": {
          "base_uri": "https://localhost:8080/",
          "height": 220
        },
        "id": "niUIy1LsJVf3",
        "outputId": "e2be52e9-d2f0-471e-ce58-d1eef4af584b"
      },
      "execution_count": null,
      "outputs": [
        {
          "output_type": "stream",
          "name": "stdout",
          "text": [
            "3825\n",
            "5695\n"
          ]
        },
        {
          "output_type": "error",
          "ename": "TypeError",
          "evalue": "unsupported operand type(s) for +: 'NoneType' and 'NoneType'",
          "traceback": [
            "\u001b[0;31m---------------------------------------------------------------------------\u001b[0m",
            "\u001b[0;31mTypeError\u001b[0m                                 Traceback (most recent call last)",
            "\u001b[0;32m<ipython-input-10-efda21588222>\u001b[0m in \u001b[0;36m<cell line: 5>\u001b[0;34m()\u001b[0m\n\u001b[1;32m      3\u001b[0m \u001b[0ma\u001b[0m\u001b[0;34m=\u001b[0m\u001b[0md_to_inr\u001b[0m\u001b[0;34m(\u001b[0m\u001b[0;36m45\u001b[0m\u001b[0;34m)\u001b[0m\u001b[0;34m\u001b[0m\u001b[0;34m\u001b[0m\u001b[0m\n\u001b[1;32m      4\u001b[0m \u001b[0mb\u001b[0m\u001b[0;34m=\u001b[0m\u001b[0md_to_inr\u001b[0m\u001b[0;34m(\u001b[0m\u001b[0;36m67\u001b[0m\u001b[0;34m)\u001b[0m\u001b[0;34m\u001b[0m\u001b[0;34m\u001b[0m\u001b[0m\n\u001b[0;32m----> 5\u001b[0;31m \u001b[0ma\u001b[0m\u001b[0;34m+\u001b[0m\u001b[0mb\u001b[0m\u001b[0;34m\u001b[0m\u001b[0;34m\u001b[0m\u001b[0m\n\u001b[0m",
            "\u001b[0;31mTypeError\u001b[0m: unsupported operand type(s) for +: 'NoneType' and 'NoneType'"
          ]
        }
      ]
    },
    {
      "cell_type": "code",
      "source": [
        "def d_to_inr(x):\n",
        "  return(x*85)\n",
        "a=d_to_inr(45)\n",
        "b=d_to_inr(67)\n",
        "a+b"
      ],
      "metadata": {
        "colab": {
          "base_uri": "https://localhost:8080/"
        },
        "id": "gzecvxarKs4D",
        "outputId": "9a29ab02-e959-4764-b426-a5d260ffa5ee"
      },
      "execution_count": null,
      "outputs": [
        {
          "output_type": "execute_result",
          "data": {
            "text/plain": [
              "9520"
            ]
          },
          "metadata": {},
          "execution_count": 12
        }
      ]
    },
    {
      "cell_type": "code",
      "source": [
        "def area(l,w):\n",
        "  r=l*w\n",
        "  return r\n",
        "area(4,6)"
      ],
      "metadata": {
        "colab": {
          "base_uri": "https://localhost:8080/"
        },
        "id": "2vhoMSsxLT75",
        "outputId": "7d6741d7-152c-446d-8bc1-68c257078021"
      },
      "execution_count": null,
      "outputs": [
        {
          "output_type": "execute_result",
          "data": {
            "text/plain": [
              "24"
            ]
          },
          "metadata": {},
          "execution_count": 13
        }
      ]
    },
    {
      "cell_type": "code",
      "source": [
        "area(w=6,l=4)"
      ],
      "metadata": {
        "colab": {
          "base_uri": "https://localhost:8080/"
        },
        "id": "7W9od456MoRH",
        "outputId": "930f8de2-4404-43ba-ef28-e48e3f21ca51"
      },
      "execution_count": null,
      "outputs": [
        {
          "output_type": "execute_result",
          "data": {
            "text/plain": [
              "24"
            ]
          },
          "metadata": {},
          "execution_count": 14
        }
      ]
    },
    {
      "cell_type": "code",
      "source": [
        "def area(rad,length,width):\n",
        "  aoc=3.14*rad*rad\n",
        "  aor=length*width\n",
        "  return {\"Area of rectangle\":aor,\"Area of circle\":aoc}\n",
        "# area()"
      ],
      "metadata": {
        "id": "AHRu6rNMMr4i"
      },
      "execution_count": null,
      "outputs": []
    },
    {
      "cell_type": "code",
      "source": [
        "aor,aoc=area(rad=5,length=10,width=20)\n",
        "# aor\n",
        "aoc"
      ],
      "metadata": {
        "colab": {
          "base_uri": "https://localhost:8080/"
        },
        "id": "N4Xybg7dOfgJ",
        "outputId": "b375a946-842b-4704-d262-9234deddb9a8"
      },
      "execution_count": null,
      "outputs": [
        {
          "output_type": "execute_result",
          "data": {
            "text/plain": [
              "78.5"
            ]
          },
          "metadata": {},
          "execution_count": 22
        }
      ]
    },
    {
      "cell_type": "code",
      "source": [
        "s=area(rad=5,length=10,width=20)\n",
        "s"
      ],
      "metadata": {
        "colab": {
          "base_uri": "https://localhost:8080/"
        },
        "id": "F_qLGgFDOqtN",
        "outputId": "0a09d392-c6b4-4f35-e33b-95d66038a8ef"
      },
      "execution_count": null,
      "outputs": [
        {
          "output_type": "execute_result",
          "data": {
            "text/plain": [
              "{'Area of rectangle': 200, 'Area of circle': 78.5}"
            ]
          },
          "metadata": {},
          "execution_count": 30
        }
      ]
    },
    {
      "cell_type": "code",
      "source": [
        "s[0] #resulatant output from area function is a set which is not indexed"
      ],
      "metadata": {
        "colab": {
          "base_uri": "https://localhost:8080/",
          "height": 147
        },
        "id": "RdqvWrELPC4t",
        "outputId": "4096cbce-8ad8-4df1-f089-920bf8cf0c23"
      },
      "execution_count": null,
      "outputs": [
        {
          "output_type": "error",
          "ename": "TypeError",
          "evalue": "'set' object is not subscriptable",
          "traceback": [
            "\u001b[0;31m---------------------------------------------------------------------------\u001b[0m",
            "\u001b[0;31mTypeError\u001b[0m                                 Traceback (most recent call last)",
            "\u001b[0;32m<ipython-input-28-c9c96910e542>\u001b[0m in \u001b[0;36m<cell line: 1>\u001b[0;34m()\u001b[0m\n\u001b[0;32m----> 1\u001b[0;31m \u001b[0ms\u001b[0m\u001b[0;34m[\u001b[0m\u001b[0;36m0\u001b[0m\u001b[0;34m]\u001b[0m\u001b[0;34m\u001b[0m\u001b[0;34m\u001b[0m\u001b[0m\n\u001b[0m",
            "\u001b[0;31mTypeError\u001b[0m: 'set' object is not subscriptable"
          ]
        }
      ]
    },
    {
      "cell_type": "code",
      "source": [
        "type(s)"
      ],
      "metadata": {
        "colab": {
          "base_uri": "https://localhost:8080/"
        },
        "id": "ocpSGkJhPSzG",
        "outputId": "9c0556a2-5727-4745-8270-d9724b1fd922"
      },
      "execution_count": null,
      "outputs": [
        {
          "output_type": "execute_result",
          "data": {
            "text/plain": [
              "dict"
            ]
          },
          "metadata": {},
          "execution_count": 31
        }
      ]
    },
    {
      "cell_type": "code",
      "source": [
        "s[\"Area of rectangle\"]\n"
      ],
      "metadata": {
        "colab": {
          "base_uri": "https://localhost:8080/"
        },
        "id": "QkHAH2JhP-sS",
        "outputId": "c59253b9-4e1d-4816-e2f5-299b4e5e7744"
      },
      "execution_count": null,
      "outputs": [
        {
          "output_type": "execute_result",
          "data": {
            "text/plain": [
              "200"
            ]
          },
          "metadata": {},
          "execution_count": 32
        }
      ]
    },
    {
      "cell_type": "code",
      "source": [
        "def count(t):\n",
        "  alpha=0\n",
        "  digit=0\n",
        "  for i in t:\n",
        "    if i.isalpha(): # is.alpha() is an inbuilt method of python library\n",
        "      alpha+=1\n",
        "    if i.isdigit(): # is.digit() is an inbuilt method of python library\n",
        "      digit+=1\n",
        "  return alpha,digit"
      ],
      "metadata": {
        "id": "ftt9G0unQS_v"
      },
      "execution_count": null,
      "outputs": []
    },
    {
      "cell_type": "code",
      "source": [
        "count('HyderabAAd  500008 Telangana')"
      ],
      "metadata": {
        "colab": {
          "base_uri": "https://localhost:8080/"
        },
        "id": "Ve5sMtJLRYk0",
        "outputId": "4ae38861-011c-406f-c5f2-3b2cd94a1934"
      },
      "execution_count": null,
      "outputs": [
        {
          "output_type": "execute_result",
          "data": {
            "text/plain": [
              "(19, 6)"
            ]
          },
          "metadata": {},
          "execution_count": 40
        }
      ]
    },
    {
      "cell_type": "code",
      "source": [
        "def nonum(t):\n",
        "  r1=''\n",
        "  for i in t:\n",
        "    if i.lower().isalpha() or i==' ':\n",
        "      r1+=i\n",
        "  return r1\n"
      ],
      "metadata": {
        "id": "z941bAC_RexL"
      },
      "execution_count": null,
      "outputs": []
    },
    {
      "cell_type": "code",
      "source": [
        "nonum('HyderabAAd  500008 Telangana')"
      ],
      "metadata": {
        "colab": {
          "base_uri": "https://localhost:8080/",
          "height": 36
        },
        "id": "Yd44gReKUKk5",
        "outputId": "777e5765-4f95-4c4b-df1a-67aed527cb15"
      },
      "execution_count": null,
      "outputs": [
        {
          "output_type": "execute_result",
          "data": {
            "text/plain": [
              "'HyderabAAd   Telangana'"
            ],
            "application/vnd.google.colaboratory.intrinsic+json": {
              "type": "string"
            }
          },
          "metadata": {},
          "execution_count": 45
        }
      ]
    },
    {
      "cell_type": "code",
      "source": [
        "def nonum(t):\n",
        "  r1=''\n",
        "  for i in t:\n",
        "    # if i.lower().isalpha() or i==' ':\n",
        "    if i.isdigit()==False:\n",
        "      r1+=i\n",
        "  return r1\n"
      ],
      "metadata": {
        "id": "79VtvhFxUOLl"
      },
      "execution_count": null,
      "outputs": []
    },
    {
      "cell_type": "code",
      "source": [
        "nonum(\"ytfywetfuwe 9876 \")"
      ],
      "metadata": {
        "colab": {
          "base_uri": "https://localhost:8080/",
          "height": 36
        },
        "id": "PBIHxUJlV1lY",
        "outputId": "d6302b76-0811-40f3-8715-a4df3f68f950"
      },
      "execution_count": null,
      "outputs": [
        {
          "output_type": "execute_result",
          "data": {
            "text/plain": [
              "'ytfywetfuwe  '"
            ],
            "application/vnd.google.colaboratory.intrinsic+json": {
              "type": "string"
            }
          },
          "metadata": {},
          "execution_count": 47
        }
      ]
    },
    {
      "cell_type": "markdown",
      "source": [
        "1.numpy\n",
        "2.pandas\n",
        "3.matplotlib and seaborn\n",
        "4.sklearn\n",
        "5.statsmodels\n",
        "6.scipy"
      ],
      "metadata": {
        "id": "8VMp5pi7wFo_"
      }
    },
    {
      "cell_type": "markdown",
      "source": [],
      "metadata": {
        "id": "2qVW3Tj6wCNv"
      }
    },
    {
      "cell_type": "code",
      "source": [
        "#day-(17/1/25)\n",
        "import numpy as np\n",
        "j=[5,7,4,6,9,8]\n",
        "d=np.array(j)"
      ],
      "metadata": {
        "id": "LOr9NS26h-j7"
      },
      "execution_count": null,
      "outputs": []
    },
    {
      "cell_type": "code",
      "source": [
        "type(j)"
      ],
      "metadata": {
        "colab": {
          "base_uri": "https://localhost:8080/"
        },
        "id": "eO3zHFNQiXnL",
        "outputId": "b91c21c7-c286-4fe2-e20b-244ab8234316"
      },
      "execution_count": null,
      "outputs": [
        {
          "output_type": "execute_result",
          "data": {
            "text/plain": [
              "list"
            ]
          },
          "metadata": {},
          "execution_count": 3
        }
      ]
    },
    {
      "cell_type": "code",
      "source": [
        "type(d)"
      ],
      "metadata": {
        "colab": {
          "base_uri": "https://localhost:8080/"
        },
        "id": "Pxoq9cgCico-",
        "outputId": "a162d8d9-a9b6-4e9e-8ba2-0333f00bfaea"
      },
      "execution_count": null,
      "outputs": [
        {
          "output_type": "execute_result",
          "data": {
            "text/plain": [
              "numpy.ndarray"
            ]
          },
          "metadata": {},
          "execution_count": 6
        }
      ]
    },
    {
      "cell_type": "code",
      "source": [
        "d.shape # shape is a method used to get shape-dimension \"(order)\", only used in array-numpy!"
      ],
      "metadata": {
        "colab": {
          "base_uri": "https://localhost:8080/"
        },
        "id": "XXgIfGghisiy",
        "outputId": "4f3f4d39-ddd3-4857-b658-712805a68f76"
      },
      "execution_count": null,
      "outputs": [
        {
          "output_type": "execute_result",
          "data": {
            "text/plain": [
              "(6,)"
            ]
          },
          "metadata": {},
          "execution_count": 7
        }
      ]
    },
    {
      "cell_type": "code",
      "source": [
        "j.shape #error caz, j is a list but not an array of numpy!"
      ],
      "metadata": {
        "colab": {
          "base_uri": "https://localhost:8080/",
          "height": 147
        },
        "id": "NGehCO0ji-PQ",
        "outputId": "e459fadd-2d1d-40e6-e8cb-a2ffbf2170b6"
      },
      "execution_count": null,
      "outputs": [
        {
          "output_type": "error",
          "ename": "AttributeError",
          "evalue": "'list' object has no attribute 'shape'",
          "traceback": [
            "\u001b[0;31m---------------------------------------------------------------------------\u001b[0m",
            "\u001b[0;31mAttributeError\u001b[0m                            Traceback (most recent call last)",
            "\u001b[0;32m<ipython-input-8-42acd6a085d4>\u001b[0m in \u001b[0;36m<cell line: 0>\u001b[0;34m()\u001b[0m\n\u001b[0;32m----> 1\u001b[0;31m \u001b[0mj\u001b[0m\u001b[0;34m.\u001b[0m\u001b[0mshape\u001b[0m\u001b[0;34m\u001b[0m\u001b[0;34m\u001b[0m\u001b[0m\n\u001b[0m",
            "\u001b[0;31mAttributeError\u001b[0m: 'list' object has no attribute 'shape'"
          ]
        }
      ]
    },
    {
      "cell_type": "code",
      "source": [
        "d.ndim# gives dimension n=\" \""
      ],
      "metadata": {
        "colab": {
          "base_uri": "https://localhost:8080/"
        },
        "id": "XXI3Aag2i_6m",
        "outputId": "204df502-80e2-48c9-cb1a-7b4a56f16c9f"
      },
      "execution_count": null,
      "outputs": [
        {
          "output_type": "execute_result",
          "data": {
            "text/plain": [
              "1"
            ]
          },
          "metadata": {},
          "execution_count": 9
        }
      ]
    },
    {
      "cell_type": "code",
      "source": [
        "j.ndim #doesnt work on a list"
      ],
      "metadata": {
        "colab": {
          "base_uri": "https://localhost:8080/",
          "height": 147
        },
        "id": "ltjLEBcJjSd7",
        "outputId": "eae41cc1-8642-49d9-af04-632da31cc738"
      },
      "execution_count": null,
      "outputs": [
        {
          "output_type": "error",
          "ename": "AttributeError",
          "evalue": "'list' object has no attribute 'ndim'",
          "traceback": [
            "\u001b[0;31m---------------------------------------------------------------------------\u001b[0m",
            "\u001b[0;31mAttributeError\u001b[0m                            Traceback (most recent call last)",
            "\u001b[0;32m<ipython-input-10-4aa618736d2b>\u001b[0m in \u001b[0;36m<cell line: 0>\u001b[0;34m()\u001b[0m\n\u001b[0;32m----> 1\u001b[0;31m \u001b[0mj\u001b[0m\u001b[0;34m.\u001b[0m\u001b[0mndim\u001b[0m\u001b[0;34m\u001b[0m\u001b[0;34m\u001b[0m\u001b[0m\n\u001b[0m",
            "\u001b[0;31mAttributeError\u001b[0m: 'list' object has no attribute 'ndim'"
          ]
        }
      ]
    },
    {
      "cell_type": "code",
      "source": [
        "d.size"
      ],
      "metadata": {
        "colab": {
          "base_uri": "https://localhost:8080/"
        },
        "id": "bopMVmu9jT5s",
        "outputId": "95265e05-129c-4e8a-ac75-4f46b9bcaac5"
      },
      "execution_count": null,
      "outputs": [
        {
          "output_type": "execute_result",
          "data": {
            "text/plain": [
              "6"
            ]
          },
          "metadata": {},
          "execution_count": 11
        }
      ]
    },
    {
      "cell_type": "code",
      "source": [
        "j.size"
      ],
      "metadata": {
        "colab": {
          "base_uri": "https://localhost:8080/",
          "height": 147
        },
        "id": "qrr6hPyfjfYU",
        "outputId": "f3b71f4a-74a5-4bd7-e6d4-7c14a819a393"
      },
      "execution_count": null,
      "outputs": [
        {
          "output_type": "error",
          "ename": "AttributeError",
          "evalue": "'list' object has no attribute 'size'",
          "traceback": [
            "\u001b[0;31m---------------------------------------------------------------------------\u001b[0m",
            "\u001b[0;31mAttributeError\u001b[0m                            Traceback (most recent call last)",
            "\u001b[0;32m<ipython-input-12-0d41756b3d94>\u001b[0m in \u001b[0;36m<cell line: 0>\u001b[0;34m()\u001b[0m\n\u001b[0;32m----> 1\u001b[0;31m \u001b[0mj\u001b[0m\u001b[0;34m.\u001b[0m\u001b[0msize\u001b[0m\u001b[0;34m\u001b[0m\u001b[0;34m\u001b[0m\u001b[0m\n\u001b[0m",
            "\u001b[0;31mAttributeError\u001b[0m: 'list' object has no attribute 'size'"
          ]
        }
      ]
    },
    {
      "cell_type": "code",
      "source": [
        "s=[[4,8,90,12],[56,78,54,20],[67,89,50,49],[77,88,22,55],[90,40,70,60]]"
      ],
      "metadata": {
        "id": "k85Wcn0ijglu"
      },
      "execution_count": null,
      "outputs": []
    },
    {
      "cell_type": "code",
      "source": [
        "arr=np.array(s)\n"
      ],
      "metadata": {
        "id": "m4atbOU2nlTr"
      },
      "execution_count": null,
      "outputs": []
    },
    {
      "cell_type": "code",
      "source": [
        "arr.shape\n",
        "# arr.size"
      ],
      "metadata": {
        "colab": {
          "base_uri": "https://localhost:8080/"
        },
        "id": "D1vpswaIn7iO",
        "outputId": "52f881a4-f0af-4814-a418-7b3d806b0d1f"
      },
      "execution_count": null,
      "outputs": [
        {
          "output_type": "execute_result",
          "data": {
            "text/plain": [
              "(5, 4)"
            ]
          },
          "metadata": {},
          "execution_count": 18
        }
      ]
    },
    {
      "cell_type": "code",
      "source": [
        "arr.size"
      ],
      "metadata": {
        "colab": {
          "base_uri": "https://localhost:8080/"
        },
        "id": "fTHMLj44oHSa",
        "outputId": "a0c862b2-ad95-4a83-e35a-2853e95c7e5e"
      },
      "execution_count": null,
      "outputs": [
        {
          "output_type": "execute_result",
          "data": {
            "text/plain": [
              "20"
            ]
          },
          "metadata": {},
          "execution_count": 25
        }
      ]
    },
    {
      "cell_type": "code",
      "source": [
        "arr.reshape(5,2)"
      ],
      "metadata": {
        "colab": {
          "base_uri": "https://localhost:8080/",
          "height": 147
        },
        "id": "DzWCPWXHpaln",
        "outputId": "45848c63-d1d8-42df-ffec-cc8c29107987"
      },
      "execution_count": null,
      "outputs": [
        {
          "output_type": "error",
          "ename": "ValueError",
          "evalue": "cannot reshape array of size 20 into shape (5,2)",
          "traceback": [
            "\u001b[0;31m---------------------------------------------------------------------------\u001b[0m",
            "\u001b[0;31mValueError\u001b[0m                                Traceback (most recent call last)",
            "\u001b[0;32m<ipython-input-27-1ba4c05b3d41>\u001b[0m in \u001b[0;36m<cell line: 0>\u001b[0;34m()\u001b[0m\n\u001b[0;32m----> 1\u001b[0;31m \u001b[0marr\u001b[0m\u001b[0;34m.\u001b[0m\u001b[0mreshape\u001b[0m\u001b[0;34m(\u001b[0m\u001b[0;36m5\u001b[0m\u001b[0;34m,\u001b[0m\u001b[0;36m2\u001b[0m\u001b[0;34m)\u001b[0m\u001b[0;34m\u001b[0m\u001b[0;34m\u001b[0m\u001b[0m\n\u001b[0m",
            "\u001b[0;31mValueError\u001b[0m: cannot reshape array of size 20 into shape (5,2)"
          ]
        }
      ]
    },
    {
      "cell_type": "code",
      "source": [
        "arr.reshape(4,5)"
      ],
      "metadata": {
        "colab": {
          "base_uri": "https://localhost:8080/"
        },
        "id": "z7xLR-v0pthb",
        "outputId": "cf237e36-c1aa-426e-9eb8-89eb8b1b5a03"
      },
      "execution_count": null,
      "outputs": [
        {
          "output_type": "execute_result",
          "data": {
            "text/plain": [
              "array([[ 4,  8, 90, 12, 56],\n",
              "       [78, 54, 20, 67, 89],\n",
              "       [50, 49, 77, 88, 22],\n",
              "       [55, 90, 40, 70, 60]])"
            ]
          },
          "metadata": {},
          "execution_count": 29
        }
      ]
    },
    {
      "cell_type": "code",
      "source": [
        "a1=arr.reshape(2,2,5)\n",
        "a1"
      ],
      "metadata": {
        "colab": {
          "base_uri": "https://localhost:8080/"
        },
        "id": "5bg82Kxaqarj",
        "outputId": "5a0b4c0a-b6ef-4568-e120-ec5cc82ea936"
      },
      "execution_count": null,
      "outputs": [
        {
          "output_type": "execute_result",
          "data": {
            "text/plain": [
              "array([[[ 4,  8, 90, 12, 56],\n",
              "        [78, 54, 20, 67, 89]],\n",
              "\n",
              "       [[50, 49, 77, 88, 22],\n",
              "        [55, 90, 40, 70, 60]]])"
            ]
          },
          "metadata": {},
          "execution_count": 41
        }
      ]
    },
    {
      "cell_type": "code",
      "source": [
        "a1.shape\n"
      ],
      "metadata": {
        "colab": {
          "base_uri": "https://localhost:8080/"
        },
        "id": "2XT6hkSSrxot",
        "outputId": "68d6b9d8-8ca6-4f53-e7ef-8a8aa5f1f5b1"
      },
      "execution_count": null,
      "outputs": [
        {
          "output_type": "execute_result",
          "data": {
            "text/plain": [
              "(2, 2, 5)"
            ]
          },
          "metadata": {},
          "execution_count": 40
        }
      ]
    },
    {
      "cell_type": "code",
      "source": [
        "a1.reshape(20)"
      ],
      "metadata": {
        "colab": {
          "base_uri": "https://localhost:8080/"
        },
        "id": "sNXLE5ODuQKl",
        "outputId": "885bf4b2-bdbe-493c-8310-f1764d4161a0"
      },
      "execution_count": null,
      "outputs": [
        {
          "output_type": "execute_result",
          "data": {
            "text/plain": [
              "array([ 4,  8, 90, 12, 56, 78, 54, 20, 67, 89, 50, 49, 77, 88, 22, 55, 90,\n",
              "       40, 70, 60])"
            ]
          },
          "metadata": {},
          "execution_count": 43
        }
      ]
    },
    {
      "cell_type": "code",
      "source": [
        "a1.shape"
      ],
      "metadata": {
        "colab": {
          "base_uri": "https://localhost:8080/"
        },
        "id": "15fsYhA-u8Q1",
        "outputId": "519d6200-0122-41fe-db05-4b6f2108b687"
      },
      "execution_count": null,
      "outputs": [
        {
          "output_type": "execute_result",
          "data": {
            "text/plain": [
              "(2, 2, 5)"
            ]
          },
          "metadata": {},
          "execution_count": 45
        }
      ]
    },
    {
      "cell_type": "code",
      "source": [
        "a1.reshape(20,1)"
      ],
      "metadata": {
        "colab": {
          "base_uri": "https://localhost:8080/"
        },
        "id": "cRSN6COHvFWy",
        "outputId": "42603e8b-c393-4675-b0f7-a8221ac26476"
      },
      "execution_count": null,
      "outputs": [
        {
          "output_type": "execute_result",
          "data": {
            "text/plain": [
              "array([[ 4],\n",
              "       [ 8],\n",
              "       [90],\n",
              "       [12],\n",
              "       [56],\n",
              "       [78],\n",
              "       [54],\n",
              "       [20],\n",
              "       [67],\n",
              "       [89],\n",
              "       [50],\n",
              "       [49],\n",
              "       [77],\n",
              "       [88],\n",
              "       [22],\n",
              "       [55],\n",
              "       [90],\n",
              "       [40],\n",
              "       [70],\n",
              "       [60]])"
            ]
          },
          "metadata": {},
          "execution_count": 46
        }
      ]
    },
    {
      "cell_type": "code",
      "source": [
        "a1.ndim"
      ],
      "metadata": {
        "colab": {
          "base_uri": "https://localhost:8080/"
        },
        "id": "lxFDx5VhvNtM",
        "outputId": "4c2befb7-2f6f-4356-ae64-abef098a587d"
      },
      "execution_count": null,
      "outputs": [
        {
          "output_type": "execute_result",
          "data": {
            "text/plain": [
              "3"
            ]
          },
          "metadata": {},
          "execution_count": 47
        }
      ]
    },
    {
      "cell_type": "code",
      "source": [
        "range(5,20)"
      ],
      "metadata": {
        "colab": {
          "base_uri": "https://localhost:8080/"
        },
        "id": "K5M0r16fvTHl",
        "outputId": "ad6e09dd-69e8-4a16-a60b-91d6aa6dbd4f"
      },
      "execution_count": null,
      "outputs": [
        {
          "output_type": "execute_result",
          "data": {
            "text/plain": [
              "range(5, 20)"
            ]
          },
          "metadata": {},
          "execution_count": 49
        }
      ]
    },
    {
      "cell_type": "code",
      "source": [
        "m=[1,2,3,4,5]\n",
        "y=range(1,6,2)# stepsize is 2 here\n",
        "m1=list(y)\n",
        "m1"
      ],
      "metadata": {
        "colab": {
          "base_uri": "https://localhost:8080/"
        },
        "id": "zNZnKUHHx3GH",
        "outputId": "399fc8b0-342d-4b47-b759-fac7f1a769ca"
      },
      "execution_count": null,
      "outputs": [
        {
          "output_type": "execute_result",
          "data": {
            "text/plain": [
              "[1, 3, 5]"
            ]
          },
          "metadata": {},
          "execution_count": 59
        }
      ]
    },
    {
      "cell_type": "code",
      "source": [
        "tuple(range(-10,1))"
      ],
      "metadata": {
        "colab": {
          "base_uri": "https://localhost:8080/"
        },
        "id": "CDgFI0YMySgN",
        "outputId": "83c3c997-c560-4405-808c-d63d0eb075aa"
      },
      "execution_count": null,
      "outputs": [
        {
          "output_type": "execute_result",
          "data": {
            "text/plain": [
              "(-10, -9, -8, -7, -6, -5, -4, -3, -2, -1, 0)"
            ]
          },
          "metadata": {},
          "execution_count": 60
        }
      ]
    },
    {
      "cell_type": "code",
      "source": [
        "tuple(range(0,-10,-1))"
      ],
      "metadata": {
        "colab": {
          "base_uri": "https://localhost:8080/"
        },
        "id": "8m3JsdznzWMU",
        "outputId": "70c3bcba-4814-4bf7-ccea-18bec04f85ce"
      },
      "execution_count": null,
      "outputs": [
        {
          "output_type": "execute_result",
          "data": {
            "text/plain": [
              "(0, -1, -2, -3, -4, -5, -6, -7, -8, -9)"
            ]
          },
          "metadata": {},
          "execution_count": 64
        }
      ]
    },
    {
      "cell_type": "code",
      "source": [
        "tuple(range(-1,-10,-1))# going from -ve to +ve ,so use -ve stepsize!\n"
      ],
      "metadata": {
        "colab": {
          "base_uri": "https://localhost:8080/"
        },
        "id": "mVwRWpZRzn2v",
        "outputId": "627234c7-8a22-490c-c074-4e2b38634030"
      },
      "execution_count": null,
      "outputs": [
        {
          "output_type": "execute_result",
          "data": {
            "text/plain": [
              "(-1, -2, -3, -4, -5, -6, -7, -8, -9)"
            ]
          },
          "metadata": {},
          "execution_count": 66
        }
      ]
    },
    {
      "cell_type": "code",
      "source": [
        "b=np.arange(2.5,5.0,0.5)# arange method of numpy , simply makes an array of these range and displays array by default if not converted\n",
        "tuple(b)\n"
      ],
      "metadata": {
        "colab": {
          "base_uri": "https://localhost:8080/"
        },
        "id": "0rYVvQeTz2VC",
        "outputId": "bea094d5-3f85-44fe-f2a4-8a0c9088ea76"
      },
      "execution_count": null,
      "outputs": [
        {
          "output_type": "execute_result",
          "data": {
            "text/plain": [
              "(2.5, 3.0, 3.5, 4.0, 4.5)"
            ]
          },
          "metadata": {},
          "execution_count": 68
        }
      ]
    },
    {
      "cell_type": "code",
      "source": [
        "np.arange(2.5,5.0,0.5) # as said above!"
      ],
      "metadata": {
        "colab": {
          "base_uri": "https://localhost:8080/"
        },
        "id": "8mYL8IlM0v8O",
        "outputId": "95e7c2b2-f5c0-4ee3-e86e-952919bf8e00"
      },
      "execution_count": null,
      "outputs": [
        {
          "output_type": "execute_result",
          "data": {
            "text/plain": [
              "array([2.5, 3. , 3.5, 4. , 4.5])"
            ]
          },
          "metadata": {},
          "execution_count": 69
        }
      ]
    },
    {
      "cell_type": "code",
      "source": [
        "j=[5,87,23,46,62,84,80,45,77,33,80]\n",
        "even=[]\n",
        "odd=[]\n",
        "for i in j:\n",
        "  if(j.index(i)%2==0):\n",
        "    even.append(i)\n",
        "  else:\n",
        "    odd.append(i)\n",
        "print(even)\n",
        "print(odd)"
      ],
      "metadata": {
        "colab": {
          "base_uri": "https://localhost:8080/"
        },
        "id": "4jl5CXD01Pz0",
        "outputId": "8072d524-2899-4f00-d145-167a3eb22a49"
      },
      "execution_count": null,
      "outputs": [
        {
          "output_type": "stream",
          "name": "stdout",
          "text": [
            "[5, 23, 62, 80, 77, 80]\n",
            "[87, 46, 84, 45, 33]\n"
          ]
        }
      ]
    },
    {
      "cell_type": "code",
      "source": [
        "j=[5,87,23,46,62,84,80,45,77,33,80]\n",
        "j.index(80)"
      ],
      "metadata": {
        "colab": {
          "base_uri": "https://localhost:8080/"
        },
        "id": "dz697xu52vj3",
        "outputId": "f412233b-f5c0-4603-f082-55c1d2272d36"
      },
      "execution_count": null,
      "outputs": [
        {
          "output_type": "execute_result",
          "data": {
            "text/plain": [
              "6"
            ]
          },
          "metadata": {},
          "execution_count": 75
        }
      ]
    },
    {
      "cell_type": "code",
      "source": [
        "j=[5,87,23,46,62,84,80,45,77,33,80]\n",
        "even=[]\n",
        "odd=[]\n",
        "for i in range(len(j)):\n",
        "  if(i%2==0):\n",
        "    even.append(j[i])\n",
        "  else:\n",
        "    odd.append(j[i])\n",
        "print(even)\n",
        "print(odd)"
      ],
      "metadata": {
        "colab": {
          "base_uri": "https://localhost:8080/"
        },
        "id": "o-4YHJKx3Nvo",
        "outputId": "dff8e852-2fd0-4ad8-9d5e-c7269616a403"
      },
      "execution_count": null,
      "outputs": [
        {
          "output_type": "stream",
          "name": "stdout",
          "text": [
            "[5, 23, 62, 80, 77, 80]\n",
            "[87, 46, 84, 45, 33]\n"
          ]
        }
      ]
    },
    {
      "cell_type": "code",
      "source": [
        "np.mean(d)"
      ],
      "metadata": {
        "id": "O9jYdl5N45d3",
        "colab": {
          "base_uri": "https://localhost:8080/"
        },
        "outputId": "a0cb9442-c78a-495d-903e-90513b98994d"
      },
      "execution_count": 79,
      "outputs": [
        {
          "output_type": "execute_result",
          "data": {
            "text/plain": [
              "6.5"
            ]
          },
          "metadata": {},
          "execution_count": 79
        }
      ]
    },
    {
      "cell_type": "code",
      "source": [
        "np.median(d)"
      ],
      "metadata": {
        "colab": {
          "base_uri": "https://localhost:8080/"
        },
        "id": "_hy0PEJ6ChPt",
        "outputId": "54338f7c-5b0c-4765-edaa-fb3795c0780a"
      },
      "execution_count": 80,
      "outputs": [
        {
          "output_type": "execute_result",
          "data": {
            "text/plain": [
              "6.5"
            ]
          },
          "metadata": {},
          "execution_count": 80
        }
      ]
    },
    {
      "cell_type": "code",
      "source": [
        "np.var(d)"
      ],
      "metadata": {
        "colab": {
          "base_uri": "https://localhost:8080/"
        },
        "id": "2qxj1eEWCxvT",
        "outputId": "fe583724-26ea-48ed-b115-78de7e10030c"
      },
      "execution_count": 81,
      "outputs": [
        {
          "output_type": "execute_result",
          "data": {
            "text/plain": [
              "2.9166666666666665"
            ]
          },
          "metadata": {},
          "execution_count": 81
        }
      ]
    },
    {
      "cell_type": "code",
      "source": [
        "np.std(d)# std=(var)^1/2"
      ],
      "metadata": {
        "colab": {
          "base_uri": "https://localhost:8080/"
        },
        "id": "pX-66jApCzjT",
        "outputId": "0d29dce5-a398-45c7-ccdf-18fe73044c70"
      },
      "execution_count": 82,
      "outputs": [
        {
          "output_type": "execute_result",
          "data": {
            "text/plain": [
              "1.707825127659933"
            ]
          },
          "metadata": {},
          "execution_count": 82
        }
      ]
    },
    {
      "cell_type": "code",
      "source": [
        "np.min(d)"
      ],
      "metadata": {
        "colab": {
          "base_uri": "https://localhost:8080/"
        },
        "id": "zbPvKN1QC1hj",
        "outputId": "554c081a-af24-4a41-d686-8934f8eefef7"
      },
      "execution_count": 83,
      "outputs": [
        {
          "output_type": "execute_result",
          "data": {
            "text/plain": [
              "4"
            ]
          },
          "metadata": {},
          "execution_count": 83
        }
      ]
    },
    {
      "cell_type": "code",
      "source": [
        "np.max(d)"
      ],
      "metadata": {
        "colab": {
          "base_uri": "https://localhost:8080/"
        },
        "id": "CqeA2yQoC9pD",
        "outputId": "f99506d4-8b32-4c2e-e379-6f18a259e1c0"
      },
      "execution_count": 84,
      "outputs": [
        {
          "output_type": "execute_result",
          "data": {
            "text/plain": [
              "9"
            ]
          },
          "metadata": {},
          "execution_count": 84
        }
      ]
    },
    {
      "cell_type": "code",
      "source": [
        "Q1=np.quantile(d,0.25)\n",
        "Q2=np.quantile(d,0.50)\n",
        "Q3=np.quantile(d,0.75)\n",
        "print(f\"Q1:{Q1}\\nQ2:{Q2}\\nQ3:{Q3}\\n\")"
      ],
      "metadata": {
        "colab": {
          "base_uri": "https://localhost:8080/"
        },
        "id": "KpMPSgkDC_hL",
        "outputId": "8a613be6-7def-4804-811e-7263f0602aec"
      },
      "execution_count": 93,
      "outputs": [
        {
          "output_type": "stream",
          "name": "stdout",
          "text": [
            "Q1:5.25\n",
            "Q2:6.5\n",
            "Q3:7.75\n",
            "\n"
          ]
        }
      ]
    },
    {
      "cell_type": "markdown",
      "source": [
        "DISTRIBUTIONS:\n",
        "Normal,\n",
        "Binomial,\n",
        "Poison,\n",
        "uniform :values are in [0,1)"
      ],
      "metadata": {
        "id": "_dhjdHUZGLQi"
      }
    },
    {
      "cell_type": "code",
      "source": [
        "r=np.random.rand(3,5,2) # to create data that follows uniform dist, range[0,1)!\n",
        "r"
      ],
      "metadata": {
        "colab": {
          "base_uri": "https://localhost:8080/"
        },
        "id": "2r1X9g0ZFK0b",
        "outputId": "0187e648-43e0-40bf-e57d-7bd4a51949f7"
      },
      "execution_count": 109,
      "outputs": [
        {
          "output_type": "execute_result",
          "data": {
            "text/plain": [
              "array([[[0.51781837, 0.62305009],\n",
              "        [0.02598839, 0.08388954],\n",
              "        [0.21180127, 0.22699386],\n",
              "        [0.04616855, 0.62961928],\n",
              "        [0.86863299, 0.85669558]],\n",
              "\n",
              "       [[0.74320141, 0.0676402 ],\n",
              "        [0.03460574, 0.09619159],\n",
              "        [0.1228908 , 0.91646587],\n",
              "        [0.85081738, 0.69693838],\n",
              "        [0.34898675, 0.46919005]],\n",
              "\n",
              "       [[0.97314319, 0.61177885],\n",
              "        [0.62193857, 0.61422734],\n",
              "        [0.73473787, 0.14642583],\n",
              "        [0.42257431, 0.09334739],\n",
              "        [0.67622825, 0.30912166]]])"
            ]
          },
          "metadata": {},
          "execution_count": 109
        }
      ]
    },
    {
      "cell_type": "code",
      "source": [
        "r.shape"
      ],
      "metadata": {
        "colab": {
          "base_uri": "https://localhost:8080/"
        },
        "id": "H0Vrpk1dLBbo",
        "outputId": "b6e79c0e-3585-45d6-90d2-e865aa1f783b"
      },
      "execution_count": 113,
      "outputs": [
        {
          "output_type": "execute_result",
          "data": {
            "text/plain": [
              "(3, 5, 2)"
            ]
          },
          "metadata": {},
          "execution_count": 113
        }
      ]
    },
    {
      "cell_type": "code",
      "source": [
        "r.size"
      ],
      "metadata": {
        "colab": {
          "base_uri": "https://localhost:8080/"
        },
        "id": "AQDclV37LVEf",
        "outputId": "4ac71ab8-a0b3-461f-883e-c45497125654"
      },
      "execution_count": 111,
      "outputs": [
        {
          "output_type": "execute_result",
          "data": {
            "text/plain": [
              "30"
            ]
          },
          "metadata": {},
          "execution_count": 111
        }
      ]
    },
    {
      "cell_type": "code",
      "source": [
        "r.ndim"
      ],
      "metadata": {
        "colab": {
          "base_uri": "https://localhost:8080/"
        },
        "id": "3y5LNvL1LYVv",
        "outputId": "5015c9c9-4116-4f78-9204-ae0c8375b743"
      },
      "execution_count": 112,
      "outputs": [
        {
          "output_type": "execute_result",
          "data": {
            "text/plain": [
              "3"
            ]
          },
          "metadata": {},
          "execution_count": 112
        }
      ]
    },
    {
      "cell_type": "code",
      "source": [
        "sd=np.random.randn(4,10) #-3 to +3 : range for std normal dist!\n",
        "sd"
      ],
      "metadata": {
        "colab": {
          "base_uri": "https://localhost:8080/"
        },
        "id": "QwsCwTSCLZ_H",
        "outputId": "82bb3ff7-a672-44aa-c262-551fa2565efc"
      },
      "execution_count": 118,
      "outputs": [
        {
          "output_type": "execute_result",
          "data": {
            "text/plain": [
              "array([[ 0.43211119,  0.04499294,  0.79600265, -2.28534538, -0.69151535,\n",
              "         0.47604764, -0.42661144, -1.07730165,  0.47030699, -1.64495695],\n",
              "       [-0.66454273, -0.88159631,  0.45153915, -1.05844685,  0.1948814 ,\n",
              "        -0.78521974, -1.09337067,  0.0327815 ,  0.02483654, -0.55081857],\n",
              "       [-0.43653408,  1.02225997,  0.74266009,  0.25144325, -1.59369113,\n",
              "         0.03193158,  1.43061608, -0.62892144,  1.79478885,  1.37504822],\n",
              "       [-1.95564144, -0.62052344, -1.44480982, -0.06674011,  1.5854289 ,\n",
              "         0.06083007, -1.06124709, -0.80852562,  0.77632412,  0.30336438]])"
            ]
          },
          "metadata": {},
          "execution_count": 118
        }
      ]
    },
    {
      "cell_type": "code",
      "source": [
        "sd.shape"
      ],
      "metadata": {
        "colab": {
          "base_uri": "https://localhost:8080/"
        },
        "id": "rNY58ylQMY1n",
        "outputId": "9f6bf57c-3c19-4806-9cef-6ec3893f8e6f"
      },
      "execution_count": 119,
      "outputs": [
        {
          "output_type": "execute_result",
          "data": {
            "text/plain": [
              "(4, 10)"
            ]
          },
          "metadata": {},
          "execution_count": 119
        }
      ]
    },
    {
      "cell_type": "code",
      "source": [
        "sd.ndim"
      ],
      "metadata": {
        "colab": {
          "base_uri": "https://localhost:8080/"
        },
        "id": "m-qemVo2MvSW",
        "outputId": "280de37d-2a56-49a6-82e9-f1d4053b710d"
      },
      "execution_count": 120,
      "outputs": [
        {
          "output_type": "execute_result",
          "data": {
            "text/plain": [
              "2"
            ]
          },
          "metadata": {},
          "execution_count": 120
        }
      ]
    },
    {
      "cell_type": "code",
      "source": [
        "np.random.normal(40,5,(4,8)) #in this form as(4,8)"
      ],
      "metadata": {
        "colab": {
          "base_uri": "https://localhost:8080/"
        },
        "id": "ZtsKvFBkMws2",
        "outputId": "43cf92b4-0b43-44c6-9119-12125938d46a"
      },
      "execution_count": 125,
      "outputs": [
        {
          "output_type": "execute_result",
          "data": {
            "text/plain": [
              "array([[46.24028293, 31.59781174, 38.3584632 , 42.74815615, 33.94810073,\n",
              "        44.32880989, 37.03267248, 39.17255347],\n",
              "       [50.09495578, 47.30480381, 40.67320007, 44.59858756, 37.25250795,\n",
              "        33.09478709, 49.07320185, 30.25751811],\n",
              "       [46.28112325, 44.14567919, 36.91894473, 39.46186309, 42.84025412,\n",
              "        40.5087748 , 35.98281581, 42.89445893],\n",
              "       [35.10100489, 46.04577242, 37.00716128, 43.37270397, 45.15358033,\n",
              "        44.21169617, 41.28609442, 39.02363862]])"
            ]
          },
          "metadata": {},
          "execution_count": 125
        }
      ]
    },
    {
      "cell_type": "code",
      "source": [
        "np.random.randint(10,50,5)"
      ],
      "metadata": {
        "colab": {
          "base_uri": "https://localhost:8080/"
        },
        "id": "Ij3Rh6exNr8G",
        "outputId": "1cb05af6-a59e-4d04-98da-52cc8c221a46"
      },
      "execution_count": 128,
      "outputs": [
        {
          "output_type": "execute_result",
          "data": {
            "text/plain": [
              "array([31, 43, 29, 15, 11])"
            ]
          },
          "metadata": {},
          "execution_count": 128
        }
      ]
    },
    {
      "cell_type": "code",
      "source": [],
      "metadata": {
        "id": "VyCGybp9OMpu"
      },
      "execution_count": null,
      "outputs": []
    }
  ],
  "metadata": {
    "colab": {
      "provenance": [],
      "authorship_tag": "ABX9TyMYDUDCyJd3TfYXXpne/OBD",
      "include_colab_link": true
    },
    "kernelspec": {
      "display_name": "Python 3",
      "name": "python3"
    },
    "language_info": {
      "name": "python"
    }
  },
  "nbformat": 4,
  "nbformat_minor": 0
}