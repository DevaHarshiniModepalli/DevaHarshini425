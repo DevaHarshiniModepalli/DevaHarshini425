{
  "nbformat": 4,
  "nbformat_minor": 0,
  "metadata": {
    "colab": {
      "provenance": [],
      "authorship_tag": "ABX9TyNROx2G4P4SJZYEJu3ntPc9",
      "include_colab_link": true
    },
    "kernelspec": {
      "name": "python3",
      "display_name": "Python 3"
    },
    "language_info": {
      "name": "python"
    }
  },
  "cells": [
    {
      "cell_type": "markdown",
      "metadata": {
        "id": "view-in-github",
        "colab_type": "text"
      },
      "source": [
        "<a href=\"https://colab.research.google.com/github/DevaHarshiniModepalli/DevaHarshini425/blob/main/mdh_ML.ipynb\" target=\"_parent\"><img src=\"https://colab.research.google.com/assets/colab-badge.svg\" alt=\"Open In Colab\"/></a>"
      ]
    },
    {
      "cell_type": "code",
      "execution_count": 4,
      "metadata": {
        "colab": {
          "base_uri": "https://localhost:8080/"
        },
        "id": "06jU98qf8F8h",
        "outputId": "655d899c-7e5b-4e8c-9cf4-24934e292293"
      },
      "outputs": [
        {
          "output_type": "execute_result",
          "data": {
            "text/plain": [
              "array([65, 98, 70, 62, 55, 91, 13, 19])"
            ]
          },
          "metadata": {},
          "execution_count": 4
        }
      ],
      "source": [
        "import numpy as np\n",
        "x=np.random.randint(10,100,8)\n",
        "x"
      ]
    },
    {
      "cell_type": "code",
      "source": [
        "mean=np.mean(x)\n",
        "mean"
      ],
      "metadata": {
        "colab": {
          "base_uri": "https://localhost:8080/"
        },
        "id": "JAJjKpvV8aTf",
        "outputId": "59a99370-0e12-4048-dfd2-fa32948aeec8"
      },
      "execution_count": 5,
      "outputs": [
        {
          "output_type": "execute_result",
          "data": {
            "text/plain": [
              "59.125"
            ]
          },
          "metadata": {},
          "execution_count": 5
        }
      ]
    },
    {
      "cell_type": "code",
      "source": [
        "med=np.median(x)\n",
        "med"
      ],
      "metadata": {
        "colab": {
          "base_uri": "https://localhost:8080/"
        },
        "id": "4cwz6UfI9Gd_",
        "outputId": "a7ab5e7f-fafa-4e9c-a0e2-4cb4bc9a8681"
      },
      "execution_count": 6,
      "outputs": [
        {
          "output_type": "execute_result",
          "data": {
            "text/plain": [
              "63.5"
            ]
          },
          "metadata": {},
          "execution_count": 6
        }
      ]
    },
    {
      "cell_type": "code",
      "source": [
        "import numpy\n",
        "from scipy import stats\n",
        "mod=stats.mode(x)\n",
        "mod"
      ],
      "metadata": {
        "colab": {
          "base_uri": "https://localhost:8080/"
        },
        "id": "R2qJm_7E9PJU",
        "outputId": "2db7d52d-6091-4a7d-b304-90001e863b6f"
      },
      "execution_count": 17,
      "outputs": [
        {
          "output_type": "execute_result",
          "data": {
            "text/plain": [
              "ModeResult(mode=0.016450586868819617, count=1)"
            ]
          },
          "metadata": {},
          "execution_count": 17
        }
      ]
    },
    {
      "cell_type": "code",
      "source": [
        "import numpy as np\n",
        "y=np.random.uniform(-8,7,10)\n",
        "y"
      ],
      "metadata": {
        "colab": {
          "base_uri": "https://localhost:8080/"
        },
        "id": "yFXcnPkS9SsZ",
        "outputId": "377c76de-e819-4404-a1cb-5761169499a7"
      },
      "execution_count": 11,
      "outputs": [
        {
          "output_type": "execute_result",
          "data": {
            "text/plain": [
              "array([ 4.11602293, -0.09473721,  1.63240855, -3.46357088,  6.40474506,\n",
              "       -3.88562665, -1.11014422,  2.81228658, -3.7933714 , -0.73593536])"
            ]
          },
          "metadata": {},
          "execution_count": 11
        }
      ]
    },
    {
      "cell_type": "code",
      "source": [
        "import sys\n",
        "import matplotlib\n",
        "matplotlib.use('Agg')\n",
        "import numpy\n",
        "import matplotlib.pyplot as plt\n",
        "%matplotlib inline\n",
        "x=numpy.random.uniform(0.0,0.5,100)\n",
        "plt.hist(x,10)\n",
        "plt.show()\n",
        "# plt.savefig(sys.stdout.buffer)\n",
        "# sys.stdout.flush()\n",
        "\n"
      ],
      "metadata": {
        "colab": {
          "base_uri": "https://localhost:8080/",
          "height": 430
        },
        "id": "B0Zch_uG9ZHG",
        "outputId": "693579c1-a4f5-4ef8-82ab-f8b3ff16ce63"
      },
      "execution_count": 18,
      "outputs": [
        {
          "output_type": "display_data",
          "data": {
            "text/plain": [
              "<Figure size 640x480 with 1 Axes>"
            ],
            "image/png": "[encoded data removed]"
          },
          "metadata": {}
        }
      ]
    },
    {
      "cell_type": "code",
      "source": [
        "import sys\n",
        "import matplotlib\n",
        "# matplotlib.use('Agg')  # Remove or comment this line\n",
        "import numpy\n",
        "import matplotlib.pyplot as plt\n",
        "%matplotlib inline\n",
        "x = numpy.random.uniform(0.0, 0.5, 100)\n",
        "plt.hist(x, 10)\n",
        "plt.show()"
      ],
      "metadata": {
        "id": "ZlSFz5AE-lxK",
        "outputId": "9f01b502-d56b-4c11-ee91-24903ad91089",
        "colab": {
          "base_uri": "https://localhost:8080/",
          "height": 430
        }
      },
      "execution_count": 24,
      "outputs": [
        {
          "output_type": "display_data",
          "data": {
            "text/plain": [
              "<Figure size 640x480 with 1 Axes>"
            ],
            "image/png": "[encoded data removed]"
          },
          "metadata": {}
        }
      ]
    },
    {
      "cell_type": "code",
      "source": [
        "import pandas as pd\n",
        "from sklearn.impute import SimpleImputer\n",
        "\n",
        "def generate_example_dataset():\n",
        "    # Create an example dataset with missing values\n",
        "    data = {\n",
        "        'PassengerId': [1, 2, 3, 4, 5],\n",
        "        'Name': ['John', 'Jane', 'Bob', 'Alice', 'Charlie'], 'Age': [22, None, 25, None, 30],\n",
        "        'Fare': [7.25, 71.28, None, 8.05, 10.5],\n",
        "        'Survived': [0, 1, 1, 0, 1]\n",
        "    }\n",
        "    return pd.DataFrame(data)\n",
        "\n",
        "def clean_dataset(df):\n",
        "    # Display the original dataset\n",
        "    print(\"Original Dataset:\")\n",
        "    print(df)\n",
        "    # Drop non-numeric columns\n",
        "    numeric_df = df.select_dtypes(include='number')\n",
        "\n",
        "    # Handling missing values using SimpleImputer (mean strategy)\n",
        "    imputer = SimpleImputer(strategy='mean')\n",
        "    df_cleaned=pd.DataFrame(imputer.fit_transform(numeric_df),columns=numeric_df.columns) # Display the cleaned dataset\n",
        "    print(\"\\nCleaned Dataset:\")\n",
        "    print(df_cleaned)\n",
        "\n",
        "if __name__== \"__main__\":\n",
        "    # Generate an example dataset with missing values\n",
        "    example_dataset = generate_example_dataset() # Call the clean_dataset function\n",
        "    clean_dataset(example_dataset)"
      ],
      "metadata": {
        "id": "wOePj2GAHQMe",
        "outputId": "6ecffb03-73d7-4c8b-abcf-0801e6a0d747",
        "colab": {
          "base_uri": "https://localhost:8080/"
        }
      },
      "execution_count": 29,
      "outputs": [
        {
          "output_type": "stream",
          "name": "stdout",
          "text": [
            "Original Dataset:\n",
            "   PassengerId     Name   Age   Fare  Survived\n",
            "0            1     John  22.0   7.25         0\n",
            "1            2     Jane   NaN  71.28         1\n",
            "2            3      Bob  25.0    NaN         1\n",
            "3            4    Alice   NaN   8.05         0\n",
            "4            5  Charlie  30.0  10.50         1\n",
            "\n",
            "Cleaned Dataset:\n",
            "   PassengerId        Age   Fare  Survived\n",
            "0          1.0  22.000000   7.25       0.0\n",
            "1          2.0  25.666667  71.28       1.0\n",
            "2          3.0  25.000000  24.27       1.0\n",
            "3          4.0  25.666667   8.05       0.0\n",
            "4          5.0  30.000000  10.50       1.0\n"
          ]
        }
      ]
    },
    {
      "cell_type": "code",
      "source": [],
      "metadata": {
        "id": "AosWaievJnAg"
      },
      "execution_count": null,
      "outputs": []
    }
  ]
}