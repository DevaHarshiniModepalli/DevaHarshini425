{
  "nbformat": 4,
  "nbformat_minor": 0,
  "metadata": {
    "colab": {
      "provenance": [],
      "mount_file_id": "1A4aDcQ-dRXytXDuqixnp50E8iE8ahSr8",
      "authorship_tag": "ABX9TyO2xuzBqOW43+qB5Q3RnG/W",
      "include_colab_link": true
    },
    "kernelspec": {
      "name": "python3",
      "display_name": "Python 3"
    },
    "language_info": {
      "name": "python"
    }
  },
  "cells": [
    {
      "cell_type": "markdown",
      "metadata": {
        "id": "view-in-github",
        "colab_type": "text"
      },
      "source": [
        "<a href=\"https://colab.research.google.com/github/DevaHarshiniModepalli/DevaHarshini425/blob/main/15_03_25.ipynb\" target=\"_parent\"><img src=\"https://colab.research.google.com/assets/colab-badge.svg\" alt=\"Open In Colab\"/></a>"
      ]
    },
    {
      "cell_type": "code",
      "execution_count": 9,
      "metadata": {
        "colab": {
          "base_uri": "https://localhost:8080/"
        },
        "id": "dZKq3dTthwee",
        "outputId": "197f5d7e-f681-43b9-a461-4dac0dc776a2"
      },
      "outputs": [
        {
          "output_type": "stream",
          "name": "stdout",
          "text": [
            "0.7578263841421736\n"
          ]
        }
      ],
      "source": [
        "from pandas import read_csv\n",
        "from sklearn.model_selection import KFold\n",
        "from sklearn.model_selection import cross_val_score\n",
        "from sklearn.ensemble import BaggingClassifier\n",
        "from sklearn.tree import DecisionTreeClassifier\n",
        "filename='/content/drive/MyDrive/pima-indians-diabetes.data.csv'\n",
        "names=['preg','plas','pres','skin','test','mass','padl','age','class']\n",
        "df=read_csv(filename,names=names)\n",
        "arr=df.values\n",
        "X=arr[:,0:8]\n",
        "y=arr[:,8]\n",
        "seed=7\n",
        "kfold=KFold(n_splits=10,shuffle=True,random_state=seed)\n",
        "cart=DecisionTreeClassifier()\n",
        "num_trees=100\n",
        "model=BaggingClassifier(n_estimators=num_trees,random_state=seed)\n",
        "result=cross_val_score(model,X,y,cv=kfold)\n",
        "print(result.mean())"
      ]
    },
    {
      "cell_type": "code",
      "source": [
        "from sklearn.svm import SVC\n",
        "from sklearn.ensemble import VotingClassifier\n",
        "from sklearn.linear_model import LogisticRegression\n",
        "filename='/content/drive/MyDrive/pima-indians-diabetes.data.csv'\n",
        "names=['preg','plas','pres','skin','test','mass','padl','age','class']\n",
        "df=read_csv(filename,names=names)\n",
        "arr=df.values\n",
        "X=arr[:,0:8]\n",
        "y=arr[:,8]\n",
        "seed=7\n",
        "kfold=KFold(n_splits=10,shuffle=True,random_state=seed)\n",
        "estimators=[]\n",
        "model1=LogisticRegression(max_iter=500)\n",
        "estimators.append(('logistic',model1))\n",
        "model2=DecisionTreeClassifier()\n",
        "estimators.append(('cart',model2))\n",
        "model3=SVC()\n",
        "estimators.append(('svm',model3))\n",
        "ensemble=VotingClassifier(estimators)\n",
        "results=cross_val_score(ensemble,X,y,cv=kfold)\n",
        "print(results.mean())\n"
      ],
      "metadata": {
        "colab": {
          "base_uri": "https://localhost:8080/"
        },
        "id": "-3ms-nOpkOZc",
        "outputId": "c74fdb15-c4f0-40a8-b441-f0c0f15569f0"
      },
      "execution_count": 10,
      "outputs": [
        {
          "output_type": "stream",
          "name": "stdout",
          "text": [
            "0.7721633629528366\n"
          ]
        }
      ]
    },
    {
      "cell_type": "code",
      "source": [
        "from sklearn.ensemble import AdaBoostClassifier\n",
        "filename='/content/drive/MyDrive/pima-indians-diabetes.data.csv'\n",
        "names=['preg','plas','pres','skin','test','mass','padl','age','class']\n",
        "df=read_csv(filename,names=names)\n",
        "arr=df.values\n",
        "X=arr[:,0:8]\n",
        "y=arr[:,8]\n",
        "num_trees=10\n",
        "seed=7\n",
        "kfold=KFold(n_splits=10,shuffle=True,random_state=seed)\n",
        "model=AdaBoostClassifier(n_estimators=num_trees,random_state=seed)\n",
        "results=cross_val_score(model,X,y,cv=kfold)\n",
        "print(results.mean())"
      ],
      "metadata": {
        "colab": {
          "base_uri": "https://localhost:8080/"
        },
        "id": "K_ioDufbnfP8",
        "outputId": "d9fb9cc9-199f-4011-d48d-3e566fc8bcdd"
      },
      "execution_count": 11,
      "outputs": [
        {
          "output_type": "stream",
          "name": "stdout",
          "text": [
            "0.744771018455229\n"
          ]
        }
      ]
    },
    {
      "cell_type": "code",
      "source": [],
      "metadata": {
        "id": "jKRLsnqmpdxW"
      },
      "execution_count": null,
      "outputs": []
    }
  ]
}