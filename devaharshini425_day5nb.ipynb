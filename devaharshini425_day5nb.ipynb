{
  "nbformat": 4,
  "nbformat_minor": 0,
  "metadata": {
    "colab": {
      "provenance": [],
      "authorship_tag": "ABX9TyMgmxa/dzhZ/hV61Fe2DHUm",
      "include_colab_link": true
    },
    "kernelspec": {
      "name": "python3",
      "display_name": "Python 3"
    },
    "language_info": {
      "name": "python"
    }
  },
  "cells": [
    {
      "cell_type": "markdown",
      "metadata": {
        "id": "view-in-github",
        "colab_type": "text"
      },
      "source": [
        "<a href=\"https://colab.research.google.com/github/DevaHarshiniModepalli/DevaHarshini425/blob/main/devaharshini425_day5nb.ipynb\" target=\"_parent\"><img src=\"https://colab.research.google.com/assets/colab-badge.svg\" alt=\"Open In Colab\"/></a>"
      ]
    },
    {
      "cell_type": "code",
      "source": [
        "s1={21,54,46,89}\n",
        "s1.add(24)\n",
        "print(s1)"
      ],
      "metadata": {
        "colab": {
          "base_uri": "https://localhost:8080/"
        },
        "id": "Nsf3xl8ASNjk",
        "outputId": "fdaa03fc-6d90-45da-c8db-fb328e0b1b1b"
      },
      "execution_count": null,
      "outputs": [
        {
          "output_type": "stream",
          "name": "stdout",
          "text": [
            "{46, 21, 54, 24, 89}\n"
          ]
        }
      ]
    },
    {
      "cell_type": "code",
      "source": [
        "s2={76,7,46}\n",
        "s1.union(s2)"
      ],
      "metadata": {
        "colab": {
          "base_uri": "https://localhost:8080/"
        },
        "id": "BushT64rT7Fx",
        "outputId": "afaa352c-2670-4e04-f672-423279ec64b1"
      },
      "execution_count": null,
      "outputs": [
        {
          "output_type": "execute_result",
          "data": {
            "text/plain": [
              "{7, 21, 24, 46, 54, 76, 89}"
            ]
          },
          "metadata": {},
          "execution_count": 12
        }
      ]
    },
    {
      "cell_type": "code",
      "source": [
        "s1.difference(s2)"
      ],
      "metadata": {
        "colab": {
          "base_uri": "https://localhost:8080/"
        },
        "id": "boR1wV50UXiy",
        "outputId": "1da19c01-67a7-4bce-e394-46a9de7e5e7c"
      },
      "execution_count": null,
      "outputs": [
        {
          "output_type": "execute_result",
          "data": {
            "text/plain": [
              "{21, 24, 54, 89}"
            ]
          },
          "metadata": {},
          "execution_count": 14
        }
      ]
    },
    {
      "cell_type": "code",
      "source": [
        "s2.difference(s1)"
      ],
      "metadata": {
        "colab": {
          "base_uri": "https://localhost:8080/"
        },
        "id": "GCF0dc7oUkcN",
        "outputId": "2b3dc334-ba63-4184-e473-77c73ab8f052"
      },
      "execution_count": null,
      "outputs": [
        {
          "output_type": "execute_result",
          "data": {
            "text/plain": [
              "{7, 76}"
            ]
          },
          "metadata": {},
          "execution_count": 16
        }
      ]
    },
    {
      "cell_type": "code",
      "source": [
        "s1.symmetric_difference(s2)"
      ],
      "metadata": {
        "colab": {
          "base_uri": "https://localhost:8080/"
        },
        "id": "gxzE8lJlU0kg",
        "outputId": "1957267a-1762-4c15-f1ca-15c2a24f0db0"
      },
      "execution_count": null,
      "outputs": [
        {
          "output_type": "execute_result",
          "data": {
            "text/plain": [
              "{7, 21, 24, 54, 76, 89}"
            ]
          },
          "metadata": {},
          "execution_count": 18
        }
      ]
    },
    {
      "cell_type": "code",
      "source": [
        "a=(3,5,7)\n",
        "l=list(a)\n",
        "l.append(9)\n",
        "print(tuple(l))"
      ],
      "metadata": {
        "colab": {
          "base_uri": "https://localhost:8080/"
        },
        "id": "JOAfnd2iWYmB",
        "outputId": "c510b6ea-0287-48c6-faad-228357eb2f91"
      },
      "execution_count": null,
      "outputs": [
        {
          "output_type": "stream",
          "name": "stdout",
          "text": [
            "(3, 5, 7, 9)\n"
          ]
        }
      ]
    },
    {
      "cell_type": "code",
      "source": [
        "s={10,20}\n",
        "l=list(s)\n",
        "l.insert(1,45)\n",
        "print(set(l))"
      ],
      "metadata": {
        "colab": {
          "base_uri": "https://localhost:8080/"
        },
        "id": "Z-dB0AeeWjOQ",
        "outputId": "a4557382-d5ce-4652-97a6-51af86a92c00"
      },
      "execution_count": null,
      "outputs": [
        {
          "output_type": "stream",
          "name": "stdout",
          "text": [
            "{10, 20, 45}\n"
          ]
        }
      ]
    },
    {
      "cell_type": "code",
      "source": [
        "t=(1,3,2)\n",
        "t.index(3)"
      ],
      "metadata": {
        "colab": {
          "base_uri": "https://localhost:8080/"
        },
        "id": "5fIvQ1yNXBo7",
        "outputId": "866634aa-5ffb-4b6e-bc03-4916a54989be"
      },
      "execution_count": null,
      "outputs": [
        {
          "output_type": "execute_result",
          "data": {
            "text/plain": [
              "1"
            ]
          },
          "metadata": {},
          "execution_count": 23
        }
      ]
    },
    {
      "cell_type": "code",
      "source": [
        "t.count(2)"
      ],
      "metadata": {
        "colab": {
          "base_uri": "https://localhost:8080/"
        },
        "id": "83ghf25OXOiW",
        "outputId": "d4901e9d-59e7-450b-8edf-3f6a926eb956"
      },
      "execution_count": null,
      "outputs": [
        {
          "output_type": "execute_result",
          "data": {
            "text/plain": [
              "1"
            ]
          },
          "metadata": {},
          "execution_count": 29
        }
      ]
    },
    {
      "cell_type": "code",
      "source": [
        "#sum of n positive numbers\n",
        "n=int(input( ))\n",
        "def sumofpnum(n):\n",
        "  sum=0\n",
        "  for i in range(1,n+1):\n",
        "    sum=sum+i\n",
        "  print(sum)\n",
        "sumofpnum(n)\n"
      ],
      "metadata": {
        "id": "09MUXWIfXtiE",
        "colab": {
          "base_uri": "https://localhost:8080/"
        },
        "outputId": "55da1e07-1e45-4993-b342-0f03a3a9943d"
      },
      "execution_count": null,
      "outputs": [
        {
          "output_type": "stream",
          "name": "stdout",
          "text": [
            "4\n",
            "10\n"
          ]
        }
      ]
    },
    {
      "cell_type": "code",
      "source": [
        "d={1:6,6:647,45:6}\n",
        "d.get(1)\n",
        "# d.update({6:657})\n"
      ],
      "metadata": {
        "id": "dziOV2TFHADn",
        "colab": {
          "base_uri": "https://localhost:8080/"
        },
        "outputId": "65d00aed-c169-4a93-d72d-54a8a5a63c4f"
      },
      "execution_count": null,
      "outputs": [
        {
          "output_type": "execute_result",
          "data": {
            "text/plain": [
              "6"
            ]
          },
          "metadata": {},
          "execution_count": 8
        }
      ]
    },
    {
      "cell_type": "code",
      "source": [
        "d = {1: 6, 6: 647, 45: 6}\n",
        "del d[6]\n",
        "print(d)"
      ],
      "metadata": {
        "colab": {
          "base_uri": "https://localhost:8080/"
        },
        "id": "afpKUlPbIOH3",
        "outputId": "f5fb9d95-0490-4889-8339-b5d070d4a30e"
      },
      "execution_count": null,
      "outputs": [
        {
          "output_type": "stream",
          "name": "stdout",
          "text": [
            "{1: 6, 45: 6}\n"
          ]
        }
      ]
    },
    {
      "cell_type": "code",
      "source": [
        "d[1]=[658,73]\n",
        "d"
      ],
      "metadata": {
        "colab": {
          "base_uri": "https://localhost:8080/"
        },
        "id": "qZKtKULGI2HY",
        "outputId": "a0833f0c-c89d-430b-85a5-2bb416bb12e9"
      },
      "execution_count": null,
      "outputs": [
        {
          "output_type": "execute_result",
          "data": {
            "text/plain": [
              "{1: [658, 73], 45: 6}"
            ]
          },
          "metadata": {},
          "execution_count": 21
        }
      ]
    },
    {
      "cell_type": "code",
      "source": [
        "d[1][0]"
      ],
      "metadata": {
        "colab": {
          "base_uri": "https://localhost:8080/"
        },
        "id": "GvO7QQmZJYAr",
        "outputId": "caffa43a-142b-4898-c97d-32ea7837eea2"
      },
      "execution_count": null,
      "outputs": [
        {
          "output_type": "execute_result",
          "data": {
            "text/plain": [
              "658"
            ]
          },
          "metadata": {},
          "execution_count": 24
        }
      ]
    },
    {
      "cell_type": "code",
      "source": [
        "d[1]=[5,34.6,'a','xyz']\n",
        "d[2]=(25,467,780)\n",
        "d[3]=9864\n",
        "d['apple']=(20,10,70,[90,180,270])\n",
        "d"
      ],
      "metadata": {
        "colab": {
          "base_uri": "https://localhost:8080/"
        },
        "id": "2uBFFuy0JvqU",
        "outputId": "f79aea7d-e07d-4c2b-da7b-ba8955d5a0f7"
      },
      "execution_count": null,
      "outputs": [
        {
          "output_type": "execute_result",
          "data": {
            "text/plain": [
              "{1: [5, 34.6, 'a', 'xyz'],\n",
              " 45: 6,\n",
              " 2: (25, 467, 780),\n",
              " 3: 9864,\n",
              " 'apple': (20, 10, 70, [90, 180, 270])}"
            ]
          },
          "metadata": {},
          "execution_count": 35
        }
      ]
    },
    {
      "cell_type": "code",
      "source": [
        "type(d[1][1])"
      ],
      "metadata": {
        "colab": {
          "base_uri": "https://localhost:8080/"
        },
        "id": "1sKjaFnkLJ24",
        "outputId": "a11d0c93-a42c-4825-9545-d023e1037605"
      },
      "execution_count": null,
      "outputs": [
        {
          "output_type": "execute_result",
          "data": {
            "text/plain": [
              "int"
            ]
          },
          "metadata": {},
          "execution_count": 31
        }
      ]
    },
    {
      "cell_type": "code",
      "source": [
        "d['apple'][3][0]"
      ],
      "metadata": {
        "colab": {
          "base_uri": "https://localhost:8080/"
        },
        "id": "Sl8kzoF-LivJ",
        "outputId": "9cf2e620-0479-41f9-b161-fb3579c38974"
      },
      "execution_count": null,
      "outputs": [
        {
          "output_type": "execute_result",
          "data": {
            "text/plain": [
              "90"
            ]
          },
          "metadata": {},
          "execution_count": 36
        }
      ]
    },
    {
      "cell_type": "code",
      "source": [
        "d={102:{50:[7,8,9,10],'apple':(20,10,70,[90,180,270])}}\n",
        "d"
      ],
      "metadata": {
        "colab": {
          "base_uri": "https://localhost:8080/"
        },
        "id": "LyHJP15NQBoz",
        "outputId": "4c26178d-3783-47a2-8b14-2fa44b27cd6f"
      },
      "execution_count": null,
      "outputs": [
        {
          "output_type": "execute_result",
          "data": {
            "text/plain": [
              "{102: {50: [7, 8, 9, 10], 'apple': (20, 10, 70, [90, 180, 270])}}"
            ]
          },
          "metadata": {},
          "execution_count": 39
        }
      ]
    },
    {
      "cell_type": "code",
      "source": [
        "d[102]['apple'][3][0]"
      ],
      "metadata": {
        "colab": {
          "base_uri": "https://localhost:8080/"
        },
        "id": "D8sr2-tdRJDL",
        "outputId": "e0649fac-508f-4a9a-b088-ec4c1b4fa0eb"
      },
      "execution_count": null,
      "outputs": [
        {
          "output_type": "execute_result",
          "data": {
            "text/plain": [
              "90"
            ]
          },
          "metadata": {},
          "execution_count": 43
        }
      ]
    },
    {
      "cell_type": "code",
      "source": [
        "# function to calculate the square of a number\n",
        "def calculate_square(n):\n",
        "    return n * n\n",
        "user_input = int(input(\"Enter a positive integer to find its square: \"))\n",
        "square_result = calculate_square(user_input)\n",
        "print(\"The square of\", user_input, \"is:\", square_result)\n"
      ],
      "metadata": {
        "id": "SSmbi5-VRdp3",
        "colab": {
          "base_uri": "https://localhost:8080/"
        },
        "outputId": "3401e73e-1f30-4894-9f0c-5a2a203d4b15"
      },
      "execution_count": 1,
      "outputs": [
        {
          "output_type": "stream",
          "name": "stdout",
          "text": [
            "Enter a positive integer to find its square: 4\n",
            "The square of 4 is: 16\n"
          ]
        }
      ]
    },
    {
      "cell_type": "code",
      "source": [
        "\n",
        "\n",
        "n = int(input(\"Enter a positive integer: \"))\n",
        "\n",
        "# Using a for loop to print all numbers from 1 to n\n",
        "print(\"Numbers from 1 to\", n, \":\")\n",
        "for i in range(1, n+1):\n",
        "    print(i)\n",
        "\n",
        "# Using a while loop to calculate the sum of all numbers from 1 to n\n",
        "sum_numbers = 0\n",
        "i = 1\n",
        "while i <= n:\n",
        "    sum_numbers += i\n",
        "    i += 1\n",
        "\n",
        "print(\"Sum of all numbers from 1 to\", n, \"is:\", sum_numbers)\n"
      ],
      "metadata": {
        "colab": {
          "base_uri": "https://localhost:8080/"
        },
        "id": "dDwUSH0NLCFH",
        "outputId": "b3103e52-2f5c-4d15-d747-92e09761f4b2"
      },
      "execution_count": 2,
      "outputs": [
        {
          "output_type": "stream",
          "name": "stdout",
          "text": [
            "Enter a positive integer: 5\n",
            "Numbers from 1 to 5 :\n",
            "1\n",
            "2\n",
            "3\n",
            "4\n",
            "5\n",
            "Sum of all numbers from 1 to 5 is: 15\n"
          ]
        }
      ]
    },
    {
      "cell_type": "code",
      "source": [],
      "metadata": {
        "id": "GH9mYjQ8LU_f"
      },
      "execution_count": null,
      "outputs": []
    }
  ]
}